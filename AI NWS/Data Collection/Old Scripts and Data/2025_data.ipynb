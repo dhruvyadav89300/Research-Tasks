{
 "cells": [
  {
   "cell_type": "code",
   "execution_count": 1,
   "metadata": {},
   "outputs": [
    {
     "name": "stderr",
     "output_type": "stream",
     "text": [
      "/Users/dhruvyadav/anaconda3/envs/NWS/lib/python3.10/site-packages/tqdm/auto.py:21: TqdmWarning: IProgress not found. Please update jupyter and ipywidgets. See https://ipywidgets.readthedocs.io/en/stable/user_install.html\n",
      "  from .autonotebook import tqdm as notebook_tqdm\n"
     ]
    }
   ],
   "source": [
    "import ee\n",
    "import wxee\n",
    "import pandas as pd\n",
    "import xarray as xr\n",
    "from datetime import datetime, timedelta\n",
    "import os"
   ]
  },
  {
   "cell_type": "code",
   "execution_count": 2,
   "metadata": {},
   "outputs": [],
   "source": [
    "ee.Initialize()"
   ]
  },
  {
   "cell_type": "code",
   "execution_count": 3,
   "metadata": {},
   "outputs": [],
   "source": [
    "region_polygon = ee.Geometry.Rectangle([-99, 29, -97, 31])"
   ]
  },
  {
   "cell_type": "code",
   "execution_count": 4,
   "metadata": {},
   "outputs": [],
   "source": [
    "surface_variables = [\n",
    "    \"temperature_2m_above_ground\",\n",
    "    \"specific_humidity_2m_above_ground\",\n",
    "    \"relative_humidity_2m_above_ground\",\n",
    "    \"u_component_of_wind_10m_above_ground\",\n",
    "    \"v_component_of_wind_10m_above_ground\",\n",
    "    \"precipitable_water_entire_atmosphere\"\n",
    "]"
   ]
  },
  {
   "cell_type": "code",
   "execution_count": 5,
   "metadata": {},
   "outputs": [],
   "source": [
    "start_date = datetime(2025, 2, 1)\n",
    "end_date   = datetime(2025, 2, 8)"
   ]
  },
  {
   "cell_type": "code",
   "execution_count": 6,
   "metadata": {},
   "outputs": [],
   "source": [
    "all_datasets = []\n",
    "current = start_date"
   ]
  },
  {
   "cell_type": "code",
   "execution_count": 7,
   "metadata": {},
   "outputs": [],
   "source": [
    "out_dir = \"gfs_2025_1_week_data\"\n",
    "os.makedirs(out_dir, exist_ok=True)"
   ]
  },
  {
   "cell_type": "code",
   "execution_count": null,
   "metadata": {},
   "outputs": [
    {
     "name": "stdout",
     "output_type": "stream",
     "text": [
      "Date: 2025-02-01, Images found: 96\n"
     ]
    },
    {
     "name": "stderr",
     "output_type": "stream",
     "text": [
      "Requesting data:   0%|          | 0/96 [03:35<?, ?it/s]\n",
      "Downloading data:   0%|          | 0/96 [02:00<?, ?it/s]\n",
      "/Users/dhruvyadav/anaconda3/envs/NWS/lib/python3.10/site-packages/wxee/utils.py:149: UserWarning: Different non-null values were encountered for the same variable at the same time coordinate. The first value was taken.\n",
      "  warnings.warn(\n"
     ]
    },
    {
     "name": "stdout",
     "output_type": "stream",
     "text": [
      "<xarray.Dataset> Size: 19kB\n",
      "Dimensions:                               (time: 4, x: 10, y: 10)\n",
      "Coordinates:\n",
      "  * time                                  (time) datetime64[ns] 32B 2025-02-0...\n",
      "  * x                                     (x) float64 80B -98.93 ... -96.91\n",
      "  * y                                     (y) float64 80B 31.1 30.88 ... 29.08\n",
      "    spatial_ref                           int64 8B 0\n",
      "Data variables:\n",
      "    temperature_2m_above_ground           (time, y, x) float64 3kB 14.94 ... nan\n",
      "    specific_humidity_2m_above_ground     (time, y, x) float64 3kB 0.003361 ....\n",
      "    relative_humidity_2m_above_ground     (time, y, x) float64 3kB 30.5 ... nan\n",
      "    u_component_of_wind_10m_above_ground  (time, y, x) float64 3kB 1.31 ... nan\n",
      "    v_component_of_wind_10m_above_ground  (time, y, x) float64 3kB -3.253 ......\n",
      "    precipitable_water_entire_atmosphere  (time, y, x) float64 3kB 4.346 ... nan\n",
      "Attributes:\n",
      "    TIFFTAG_XRESOLUTION:     1\n",
      "    TIFFTAG_YRESOLUTION:     1\n",
      "    TIFFTAG_RESOLUTIONUNIT:  1 (unitless)\n",
      "    AREA_OR_POINT:           Area\n",
      "    _FillValue:              -32768.0\n",
      "    scale_factor:            1.0\n",
      "    add_offset:              0.0\n",
      "Saved gfs_2025_1_week_data/gfs_2025-02-01.nc\n",
      "Date: 2025-02-02, Images found: 96\n"
     ]
    },
    {
     "name": "stderr",
     "output_type": "stream",
     "text": [
      "Requesting data:   0%|          | 0/96 [02:51<?, ?it/s]\n",
      "Downloading data:   0%|          | 0/96 [02:03<?, ?it/s]\n",
      "/Users/dhruvyadav/anaconda3/envs/NWS/lib/python3.10/site-packages/wxee/utils.py:149: UserWarning: Different non-null values were encountered for the same variable at the same time coordinate. The first value was taken.\n",
      "  warnings.warn(\n"
     ]
    },
    {
     "name": "stdout",
     "output_type": "stream",
     "text": [
      "<xarray.Dataset> Size: 19kB\n",
      "Dimensions:                               (time: 4, x: 10, y: 10)\n",
      "Coordinates:\n",
      "  * time                                  (time) datetime64[ns] 32B 2025-02-0...\n",
      "  * x                                     (x) float64 80B -98.93 ... -96.91\n",
      "  * y                                     (y) float64 80B 31.1 30.88 ... 29.08\n",
      "    spatial_ref                           int64 8B 0\n",
      "Data variables:\n",
      "    temperature_2m_above_ground           (time, y, x) float64 3kB 17.01 ... nan\n",
      "    specific_humidity_2m_above_ground     (time, y, x) float64 3kB 0.003962 ....\n",
      "    relative_humidity_2m_above_ground     (time, y, x) float64 3kB 31.3 ... nan\n",
      "    u_component_of_wind_10m_above_ground  (time, y, x) float64 3kB 0.2188 ......\n",
      "    v_component_of_wind_10m_above_ground  (time, y, x) float64 3kB 4.39 ... nan\n",
      "    precipitable_water_entire_atmosphere  (time, y, x) float64 3kB 5.081 ... nan\n",
      "Attributes:\n",
      "    TIFFTAG_XRESOLUTION:     1\n",
      "    TIFFTAG_YRESOLUTION:     1\n",
      "    TIFFTAG_RESOLUTIONUNIT:  1 (unitless)\n",
      "    AREA_OR_POINT:           Area\n",
      "    _FillValue:              -32768.0\n",
      "    scale_factor:            1.0\n",
      "    add_offset:              0.0\n",
      "Saved gfs_2025_1_week_data/gfs_2025-02-02.nc\n",
      "Date: 2025-02-03, Images found: 96\n"
     ]
    },
    {
     "name": "stderr",
     "output_type": "stream",
     "text": [
      "Requesting data:   0%|          | 0/96 [04:48<?, ?it/s]\n",
      "Downloading data:   0%|          | 0/96 [02:12<?, ?it/s]\n",
      "/Users/dhruvyadav/anaconda3/envs/NWS/lib/python3.10/site-packages/wxee/utils.py:149: UserWarning: Different non-null values were encountered for the same variable at the same time coordinate. The first value was taken.\n",
      "  warnings.warn(\n"
     ]
    },
    {
     "name": "stdout",
     "output_type": "stream",
     "text": [
      "<xarray.Dataset> Size: 19kB\n",
      "Dimensions:                               (time: 4, x: 10, y: 10)\n",
      "Coordinates:\n",
      "  * time                                  (time) datetime64[ns] 32B 2025-02-0...\n",
      "  * x                                     (x) float64 80B -98.93 ... -96.91\n",
      "  * y                                     (y) float64 80B 31.1 30.88 ... 29.08\n",
      "    spatial_ref                           int64 8B 0\n",
      "Data variables:\n",
      "    temperature_2m_above_ground           (time, y, x) float64 3kB 20.53 ... nan\n",
      "    specific_humidity_2m_above_ground     (time, y, x) float64 3kB 0.005259 ....\n",
      "    relative_humidity_2m_above_ground     (time, y, x) float64 3kB 33.2 ... nan\n",
      "    u_component_of_wind_10m_above_ground  (time, y, x) float64 3kB 0.7298 ......\n",
      "    v_component_of_wind_10m_above_ground  (time, y, x) float64 3kB 4.229 ... nan\n",
      "    precipitable_water_entire_atmosphere  (time, y, x) float64 3kB 9.813 ... nan\n",
      "Attributes:\n",
      "    TIFFTAG_XRESOLUTION:     1\n",
      "    TIFFTAG_YRESOLUTION:     1\n",
      "    TIFFTAG_RESOLUTIONUNIT:  1 (unitless)\n",
      "    AREA_OR_POINT:           Area\n",
      "    _FillValue:              -32768.0\n",
      "    scale_factor:            1.0\n",
      "    add_offset:              0.0\n",
      "Saved gfs_2025_1_week_data/gfs_2025-02-03.nc\n",
      "Date: 2025-02-04, Images found: 96\n"
     ]
    },
    {
     "name": "stderr",
     "output_type": "stream",
     "text": [
      "Requesting data:   0%|          | 0/96 [03:27<?, ?it/s]\n",
      "Downloading data:   0%|          | 0/96 [02:12<?, ?it/s]\n",
      "/Users/dhruvyadav/anaconda3/envs/NWS/lib/python3.10/site-packages/wxee/utils.py:149: UserWarning: Different non-null values were encountered for the same variable at the same time coordinate. The first value was taken.\n",
      "  warnings.warn(\n"
     ]
    },
    {
     "name": "stdout",
     "output_type": "stream",
     "text": [
      "<xarray.Dataset> Size: 19kB\n",
      "Dimensions:                               (time: 4, x: 10, y: 10)\n",
      "Coordinates:\n",
      "  * time                                  (time) datetime64[ns] 32B 2025-02-0...\n",
      "  * x                                     (x) float64 80B -98.93 ... -96.91\n",
      "  * y                                     (y) float64 80B 31.1 30.88 ... 29.08\n",
      "    spatial_ref                           int64 8B 0\n",
      "Data variables:\n",
      "    temperature_2m_above_ground           (time, y, x) float64 3kB 22.66 ... nan\n",
      "    specific_humidity_2m_above_ground     (time, y, x) float64 3kB 0.008197 ....\n",
      "    relative_humidity_2m_above_ground     (time, y, x) float64 3kB 45.4 ... nan\n",
      "    u_component_of_wind_10m_above_ground  (time, y, x) float64 3kB 0.1125 ......\n",
      "    v_component_of_wind_10m_above_ground  (time, y, x) float64 3kB 4.839 ... nan\n",
      "    precipitable_water_entire_atmosphere  (time, y, x) float64 3kB 14.61 ... nan\n",
      "Attributes:\n",
      "    TIFFTAG_XRESOLUTION:     1\n",
      "    TIFFTAG_YRESOLUTION:     1\n",
      "    TIFFTAG_RESOLUTIONUNIT:  1 (unitless)\n",
      "    AREA_OR_POINT:           Area\n",
      "    _FillValue:              -32768.0\n",
      "    scale_factor:            1.0\n",
      "    add_offset:              0.0\n",
      "Saved gfs_2025_1_week_data/gfs_2025-02-04.nc\n",
      "Date: 2025-02-05, Images found: 96\n"
     ]
    },
    {
     "name": "stderr",
     "output_type": "stream",
     "text": [
      "Requesting data:   0%|          | 0/96 [03:28<?, ?it/s]\n",
      "Downloading data:   0%|          | 0/96 [02:38<?, ?it/s]\n",
      "/Users/dhruvyadav/anaconda3/envs/NWS/lib/python3.10/site-packages/wxee/utils.py:149: UserWarning: Different non-null values were encountered for the same variable at the same time coordinate. The first value was taken.\n",
      "  warnings.warn(\n"
     ]
    },
    {
     "name": "stdout",
     "output_type": "stream",
     "text": [
      "<xarray.Dataset> Size: 19kB\n",
      "Dimensions:                               (time: 4, x: 10, y: 10)\n",
      "Coordinates:\n",
      "  * time                                  (time) datetime64[ns] 32B 2025-02-0...\n",
      "  * x                                     (x) float64 80B -98.93 ... -96.91\n",
      "  * y                                     (y) float64 80B 31.1 30.88 ... 29.08\n",
      "    spatial_ref                           int64 8B 0\n",
      "Data variables:\n",
      "    temperature_2m_above_ground           (time, y, x) float64 3kB 22.72 ... nan\n",
      "    specific_humidity_2m_above_ground     (time, y, x) float64 3kB 0.01022 .....\n",
      "    relative_humidity_2m_above_ground     (time, y, x) float64 3kB 56.6 ... nan\n",
      "    u_component_of_wind_10m_above_ground  (time, y, x) float64 3kB -1.62 ... nan\n",
      "    v_component_of_wind_10m_above_ground  (time, y, x) float64 3kB 5.055 ... nan\n",
      "    precipitable_water_entire_atmosphere  (time, y, x) float64 3kB 25.21 ... nan\n",
      "Attributes:\n",
      "    TIFFTAG_XRESOLUTION:     1\n",
      "    TIFFTAG_YRESOLUTION:     1\n",
      "    TIFFTAG_RESOLUTIONUNIT:  1 (unitless)\n",
      "    AREA_OR_POINT:           Area\n",
      "    _FillValue:              -32768.0\n",
      "    scale_factor:            1.0\n",
      "    add_offset:              0.0\n",
      "Saved gfs_2025_1_week_data/gfs_2025-02-05.nc\n",
      "Date: 2025-02-06, Images found: 96\n"
     ]
    },
    {
     "name": "stderr",
     "output_type": "stream",
     "text": [
      "Requesting data:   0%|          | 0/96 [03:40<?, ?it/s]\n",
      "Downloading data:   0%|          | 0/96 [02:34<?, ?it/s]\n",
      "/Users/dhruvyadav/anaconda3/envs/NWS/lib/python3.10/site-packages/wxee/utils.py:149: UserWarning: Different non-null values were encountered for the same variable at the same time coordinate. The first value was taken.\n",
      "  warnings.warn(\n"
     ]
    },
    {
     "name": "stdout",
     "output_type": "stream",
     "text": [
      "<xarray.Dataset> Size: 19kB\n",
      "Dimensions:                               (time: 4, x: 10, y: 10)\n",
      "Coordinates:\n",
      "  * time                                  (time) datetime64[ns] 32B 2025-02-0...\n",
      "  * x                                     (x) float64 80B -98.93 ... -96.91\n",
      "  * y                                     (y) float64 80B 31.1 30.88 ... 29.08\n",
      "    spatial_ref                           int64 8B 0\n",
      "Data variables:\n",
      "    temperature_2m_above_ground           (time, y, x) float64 3kB 21.12 ... nan\n",
      "    specific_humidity_2m_above_ground     (time, y, x) float64 3kB 0.01245 .....\n",
      "    relative_humidity_2m_above_ground     (time, y, x) float64 3kB 75.7 ... nan\n",
      "    u_component_of_wind_10m_above_ground  (time, y, x) float64 3kB 2.83 ... nan\n",
      "    v_component_of_wind_10m_above_ground  (time, y, x) float64 3kB 6.942 ... nan\n",
      "    precipitable_water_entire_atmosphere  (time, y, x) float64 3kB 23.5 ... nan\n",
      "Attributes:\n",
      "    TIFFTAG_XRESOLUTION:     1\n",
      "    TIFFTAG_YRESOLUTION:     1\n",
      "    TIFFTAG_RESOLUTIONUNIT:  1 (unitless)\n",
      "    AREA_OR_POINT:           Area\n",
      "    _FillValue:              -32768.0\n",
      "    scale_factor:            1.0\n",
      "    add_offset:              0.0\n",
      "Saved gfs_2025_1_week_data/gfs_2025-02-06.nc\n",
      "Date: 2025-02-07, Images found: 96\n"
     ]
    },
    {
     "name": "stderr",
     "output_type": "stream",
     "text": [
      "Requesting data:   0%|          | 0/96 [03:20<?, ?it/s]\n",
      "Downloading data:   0%|          | 0/96 [02:24<?, ?it/s]\n"
     ]
    },
    {
     "name": "stdout",
     "output_type": "stream",
     "text": [
      "<xarray.Dataset> Size: 19kB\n",
      "Dimensions:                               (time: 4, x: 10, y: 10)\n",
      "Coordinates:\n",
      "  * time                                  (time) datetime64[ns] 32B 2025-02-0...\n",
      "  * x                                     (x) float64 80B -98.93 ... -96.91\n",
      "  * y                                     (y) float64 80B 31.1 30.88 ... 29.08\n",
      "    spatial_ref                           int64 8B 0\n",
      "Data variables:\n",
      "    temperature_2m_above_ground           (time, y, x) float64 3kB 25.8 ... nan\n",
      "    specific_humidity_2m_above_ground     (time, y, x) float64 3kB 0.009653 ....\n",
      "    relative_humidity_2m_above_ground     (time, y, x) float64 3kB 44.2 ... nan\n",
      "    u_component_of_wind_10m_above_ground  (time, y, x) float64 3kB -0.677 ......\n",
      "    v_component_of_wind_10m_above_ground  (time, y, x) float64 3kB 4.105 ... nan\n",
      "    precipitable_water_entire_atmosphere  (time, y, x) float64 3kB 18.18 ... nan\n",
      "Attributes:\n",
      "    TIFFTAG_XRESOLUTION:     1\n",
      "    TIFFTAG_YRESOLUTION:     1\n",
      "    TIFFTAG_RESOLUTIONUNIT:  1 (unitless)\n",
      "    AREA_OR_POINT:           Area\n",
      "    _FillValue:              -32768.0\n",
      "    scale_factor:            1.0\n",
      "    add_offset:              0.0\n",
      "Saved gfs_2025_1_week_data/gfs_2025-02-07.nc\n"
     ]
    },
    {
     "name": "stderr",
     "output_type": "stream",
     "text": [
      "/Users/dhruvyadav/anaconda3/envs/NWS/lib/python3.10/site-packages/wxee/utils.py:149: UserWarning: Different non-null values were encountered for the same variable at the same time coordinate. The first value was taken.\n",
      "  warnings.warn(\n"
     ]
    }
   ],
   "source": [
    "while current < end_date:\n",
    "    next_day = current + timedelta(days=1)\n",
    "    \n",
    "    current_str = current.strftime(\"%Y-%m-%d\")\n",
    "    next_day_str = next_day.strftime(\"%Y-%m-%d\")\n",
    "    \n",
    "    gfs_subset = (\n",
    "        ee.ImageCollection(\"NOAA/GFS0P25\")\n",
    "        .filterDate(current_str, next_day_str)\n",
    "        .filterBounds(region_polygon)\n",
    "        .select(surface_variables)\n",
    "        .filterMetadata(\"forecast_hours\", \"less_than\", 24) \n",
    "    )\n",
    "    \n",
    "    # Number of Images\n",
    "    count = gfs_subset.size().getInfo()\n",
    "    print(f\"Date: {current_str}, Images found: {count}\")\n",
    "    \n",
    "    # If count=0, skip or handle error\n",
    "    if count == 0:\n",
    "        print(\"No data for this day, skipping.\")\n",
    "        current = next_day\n",
    "        continue\n",
    "    \n",
    "    # Convert subset to xarray\n",
    "    try:\n",
    "        xr_day = gfs_subset.wx.to_xarray(\n",
    "            region=region_polygon,\n",
    "            scale=25000,   # ~25 km\n",
    "            progress=True,\n",
    "            num_cores=1,\n",
    "            masked=True\n",
    "        )\n",
    "    except Exception as e:\n",
    "        print(f\"Error downloading data for {current_str}: {e}\")\n",
    "        current = next_day\n",
    "        continue\n",
    "    \n",
    "    # Inspect dataset\n",
    "    print(xr_day)  # dims, coords, variables\n",
    "    # e.g., print(xr_day[\"temperature_2m_above_ground\"])\n",
    "    \n",
    "    # Save locally as NetCDF\n",
    "    out_file = os.path.join(out_dir, f\"gfs_{current_str}.nc\")\n",
    "    xr_day.to_netcdf(out_file)\n",
    "    print(f\"Saved {out_file}\")\n",
    "    \n",
    "    # Move to the next day\n",
    "    current = next_day"
   ]
  },
  {
   "cell_type": "code",
   "execution_count": 6,
   "metadata": {},
   "outputs": [],
   "source": [
    "start_date = datetime(2025, 1, 10)\n",
    "end_date   = datetime(2025, 1, 18)"
   ]
  },
  {
   "cell_type": "code",
   "execution_count": 7,
   "metadata": {},
   "outputs": [],
   "source": [
    "all_datasets = []\n",
    "current = start_date"
   ]
  },
  {
   "cell_type": "code",
   "execution_count": 8,
   "metadata": {},
   "outputs": [],
   "source": [
    "out_dir = \"gfs_2025_other_week_data\"\n",
    "os.makedirs(out_dir, exist_ok=True)"
   ]
  },
  {
   "cell_type": "code",
   "execution_count": 9,
   "metadata": {},
   "outputs": [
    {
     "name": "stdout",
     "output_type": "stream",
     "text": [
      "Date: 2025-01-10, Images found: 96\n"
     ]
    },
    {
     "name": "stderr",
     "output_type": "stream",
     "text": [
      "Requesting data:   0%|          | 0/96 [04:05<?, ?it/s]\n",
      "Downloading data:   0%|          | 0/96 [02:18<?, ?it/s]\n",
      "/Users/dhruvyadav/anaconda3/envs/NWS/lib/python3.10/site-packages/wxee/utils.py:149: UserWarning: Different non-null values were encountered for the same variable at the same time coordinate. The first value was taken.\n",
      "  warnings.warn(\n"
     ]
    },
    {
     "name": "stdout",
     "output_type": "stream",
     "text": [
      "<xarray.Dataset> Size: 19kB\n",
      "Dimensions:                               (time: 4, x: 10, y: 10)\n",
      "Coordinates:\n",
      "  * time                                  (time) datetime64[ns] 32B 2025-01-1...\n",
      "  * x                                     (x) float64 80B -98.93 ... -96.91\n",
      "  * y                                     (y) float64 80B 31.1 30.88 ... 29.08\n",
      "    spatial_ref                           int64 8B 0\n",
      "Data variables:\n",
      "    temperature_2m_above_ground           (time, y, x) float64 3kB 0.4526 ......\n",
      "    specific_humidity_2m_above_ground     (time, y, x) float64 3kB 0.004125 ....\n",
      "    relative_humidity_2m_above_ground     (time, y, x) float64 3kB 100.0 ... nan\n",
      "    u_component_of_wind_10m_above_ground  (time, y, x) float64 3kB 1.329 ... nan\n",
      "    v_component_of_wind_10m_above_ground  (time, y, x) float64 3kB -0.8721 .....\n",
      "    precipitable_water_entire_atmosphere  (time, y, x) float64 3kB 22.2 ... nan\n",
      "Attributes:\n",
      "    TIFFTAG_XRESOLUTION:     1\n",
      "    TIFFTAG_YRESOLUTION:     1\n",
      "    TIFFTAG_RESOLUTIONUNIT:  1 (unitless)\n",
      "    AREA_OR_POINT:           Area\n",
      "    _FillValue:              -32768.0\n",
      "    scale_factor:            1.0\n",
      "    add_offset:              0.0\n",
      "Saved gfs_2025_other_week_data/gfs_2025-01-10.nc\n",
      "Date: 2025-01-11, Images found: 96\n"
     ]
    },
    {
     "name": "stderr",
     "output_type": "stream",
     "text": [
      "Requesting data:   0%|          | 0/96 [02:52<?, ?it/s]\n",
      "Downloading data:   0%|          | 0/96 [01:54<?, ?it/s]\n",
      "/Users/dhruvyadav/anaconda3/envs/NWS/lib/python3.10/site-packages/wxee/utils.py:149: UserWarning: Different non-null values were encountered for the same variable at the same time coordinate. The first value was taken.\n",
      "  warnings.warn(\n"
     ]
    },
    {
     "name": "stdout",
     "output_type": "stream",
     "text": [
      "<xarray.Dataset> Size: 19kB\n",
      "Dimensions:                               (time: 4, x: 10, y: 10)\n",
      "Coordinates:\n",
      "  * time                                  (time) datetime64[ns] 32B 2025-01-1...\n",
      "  * x                                     (x) float64 80B -98.93 ... -96.91\n",
      "  * y                                     (y) float64 80B 31.1 30.88 ... 29.08\n",
      "    spatial_ref                           int64 8B 0\n",
      "Data variables:\n",
      "    temperature_2m_above_ground           (time, y, x) float64 3kB 3.838 ... nan\n",
      "    specific_humidity_2m_above_ground     (time, y, x) float64 3kB 0.002425 ....\n",
      "    relative_humidity_2m_above_ground     (time, y, x) float64 3kB 46.5 ... nan\n",
      "    u_component_of_wind_10m_above_ground  (time, y, x) float64 3kB 2.105 ... nan\n",
      "    v_component_of_wind_10m_above_ground  (time, y, x) float64 3kB -4.968 ......\n",
      "    precipitable_water_entire_atmosphere  (time, y, x) float64 3kB 5.121 ... nan\n",
      "Attributes:\n",
      "    TIFFTAG_XRESOLUTION:     1\n",
      "    TIFFTAG_YRESOLUTION:     1\n",
      "    TIFFTAG_RESOLUTIONUNIT:  1 (unitless)\n",
      "    AREA_OR_POINT:           Area\n",
      "    _FillValue:              -32768.0\n",
      "    scale_factor:            1.0\n",
      "    add_offset:              0.0\n",
      "Saved gfs_2025_other_week_data/gfs_2025-01-11.nc\n",
      "Date: 2025-01-12, Images found: 96\n"
     ]
    },
    {
     "name": "stderr",
     "output_type": "stream",
     "text": [
      "Requesting data:   0%|          | 0/96 [03:04<?, ?it/s]\n",
      "Downloading data:   0%|          | 0/96 [02:01<?, ?it/s]\n",
      "/Users/dhruvyadav/anaconda3/envs/NWS/lib/python3.10/site-packages/wxee/utils.py:149: UserWarning: Different non-null values were encountered for the same variable at the same time coordinate. The first value was taken.\n",
      "  warnings.warn(\n"
     ]
    },
    {
     "name": "stdout",
     "output_type": "stream",
     "text": [
      "<xarray.Dataset> Size: 19kB\n",
      "Dimensions:                               (time: 4, x: 10, y: 10)\n",
      "Coordinates:\n",
      "  * time                                  (time) datetime64[ns] 32B 2025-01-1...\n",
      "  * x                                     (x) float64 80B -98.93 ... -96.91\n",
      "  * y                                     (y) float64 80B 31.1 30.88 ... 29.08\n",
      "    spatial_ref                           int64 8B 0\n",
      "Data variables:\n",
      "    temperature_2m_above_ground           (time, y, x) float64 3kB 7.169 ... nan\n",
      "    specific_humidity_2m_above_ground     (time, y, x) float64 3kB 0.002718 ....\n",
      "    relative_humidity_2m_above_ground     (time, y, x) float64 3kB 40.9 ... nan\n",
      "    u_component_of_wind_10m_above_ground  (time, y, x) float64 3kB 1.617 ... nan\n",
      "    v_component_of_wind_10m_above_ground  (time, y, x) float64 3kB 4.549 ... nan\n",
      "    precipitable_water_entire_atmosphere  (time, y, x) float64 3kB 4.156 ... nan\n",
      "Attributes:\n",
      "    TIFFTAG_XRESOLUTION:     1\n",
      "    TIFFTAG_YRESOLUTION:     1\n",
      "    TIFFTAG_RESOLUTIONUNIT:  1 (unitless)\n",
      "    AREA_OR_POINT:           Area\n",
      "    _FillValue:              -32768.0\n",
      "    scale_factor:            1.0\n",
      "    add_offset:              0.0\n",
      "Saved gfs_2025_other_week_data/gfs_2025-01-12.nc\n",
      "Date: 2025-01-13, Images found: 96\n"
     ]
    },
    {
     "name": "stderr",
     "output_type": "stream",
     "text": [
      "Requesting data:   0%|          | 0/96 [02:51<?, ?it/s]\n",
      "Downloading data:   0%|          | 0/96 [01:52<?, ?it/s]\n",
      "/Users/dhruvyadav/anaconda3/envs/NWS/lib/python3.10/site-packages/wxee/utils.py:149: UserWarning: Different non-null values were encountered for the same variable at the same time coordinate. The first value was taken.\n",
      "  warnings.warn(\n"
     ]
    },
    {
     "name": "stdout",
     "output_type": "stream",
     "text": [
      "<xarray.Dataset> Size: 19kB\n",
      "Dimensions:                               (time: 4, x: 10, y: 10)\n",
      "Coordinates:\n",
      "  * time                                  (time) datetime64[ns] 32B 2025-01-1...\n",
      "  * x                                     (x) float64 80B -98.93 ... -96.91\n",
      "  * y                                     (y) float64 80B 31.1 30.88 ... 29.08\n",
      "    spatial_ref                           int64 8B 0\n",
      "Data variables:\n",
      "    temperature_2m_above_ground           (time, y, x) float64 3kB 9.0 ... nan\n",
      "    specific_humidity_2m_above_ground     (time, y, x) float64 3kB 0.004242 ....\n",
      "    relative_humidity_2m_above_ground     (time, y, x) float64 3kB 56.7 ... nan\n",
      "    u_component_of_wind_10m_above_ground  (time, y, x) float64 3kB 0.3228 ......\n",
      "    v_component_of_wind_10m_above_ground  (time, y, x) float64 3kB -5.026 ......\n",
      "    precipitable_water_entire_atmosphere  (time, y, x) float64 3kB 10.75 ... nan\n",
      "Attributes:\n",
      "    TIFFTAG_XRESOLUTION:     1\n",
      "    TIFFTAG_YRESOLUTION:     1\n",
      "    TIFFTAG_RESOLUTIONUNIT:  1 (unitless)\n",
      "    AREA_OR_POINT:           Area\n",
      "    _FillValue:              -32768.0\n",
      "    scale_factor:            1.0\n",
      "    add_offset:              0.0\n",
      "Saved gfs_2025_other_week_data/gfs_2025-01-13.nc\n",
      "Date: 2025-01-14, Images found: 96\n"
     ]
    },
    {
     "name": "stderr",
     "output_type": "stream",
     "text": [
      "Requesting data:   0%|          | 0/96 [03:05<?, ?it/s]\n",
      "Downloading data:   0%|          | 0/96 [01:47<?, ?it/s]\n",
      "/Users/dhruvyadav/anaconda3/envs/NWS/lib/python3.10/site-packages/wxee/utils.py:149: UserWarning: Different non-null values were encountered for the same variable at the same time coordinate. The first value was taken.\n",
      "  warnings.warn(\n"
     ]
    },
    {
     "name": "stdout",
     "output_type": "stream",
     "text": [
      "<xarray.Dataset> Size: 19kB\n",
      "Dimensions:                               (time: 4, x: 10, y: 10)\n",
      "Coordinates:\n",
      "  * time                                  (time) datetime64[ns] 32B 2025-01-1...\n",
      "  * x                                     (x) float64 80B -98.93 ... -96.91\n",
      "  * y                                     (y) float64 80B 31.1 30.88 ... 29.08\n",
      "    spatial_ref                           int64 8B 0\n",
      "Data variables:\n",
      "    temperature_2m_above_ground           (time, y, x) float64 3kB 6.597 ... nan\n",
      "    specific_humidity_2m_above_ground     (time, y, x) float64 3kB 0.002078 ....\n",
      "    relative_humidity_2m_above_ground     (time, y, x) float64 3kB 33.1 ... nan\n",
      "    u_component_of_wind_10m_above_ground  (time, y, x) float64 3kB -3.303 ......\n",
      "    v_component_of_wind_10m_above_ground  (time, y, x) float64 3kB -0.4747 .....\n",
      "    precipitable_water_entire_atmosphere  (time, y, x) float64 3kB 6.629 ... nan\n",
      "Attributes:\n",
      "    TIFFTAG_XRESOLUTION:     1\n",
      "    TIFFTAG_YRESOLUTION:     1\n",
      "    TIFFTAG_RESOLUTIONUNIT:  1 (unitless)\n",
      "    AREA_OR_POINT:           Area\n",
      "    _FillValue:              -32768.0\n",
      "    scale_factor:            1.0\n",
      "    add_offset:              0.0\n",
      "Saved gfs_2025_other_week_data/gfs_2025-01-14.nc\n",
      "Date: 2025-01-15, Images found: 96\n"
     ]
    },
    {
     "name": "stderr",
     "output_type": "stream",
     "text": [
      "Requesting data:   0%|          | 0/96 [03:06<?, ?it/s]\n",
      "Downloading data:   0%|          | 0/96 [02:00<?, ?it/s]\n",
      "/Users/dhruvyadav/anaconda3/envs/NWS/lib/python3.10/site-packages/wxee/utils.py:149: UserWarning: Different non-null values were encountered for the same variable at the same time coordinate. The first value was taken.\n",
      "  warnings.warn(\n"
     ]
    },
    {
     "name": "stdout",
     "output_type": "stream",
     "text": [
      "<xarray.Dataset> Size: 19kB\n",
      "Dimensions:                               (time: 4, x: 10, y: 10)\n",
      "Coordinates:\n",
      "  * time                                  (time) datetime64[ns] 32B 2025-01-1...\n",
      "  * x                                     (x) float64 80B -98.93 ... -96.91\n",
      "  * y                                     (y) float64 80B 31.1 30.88 ... 29.08\n",
      "    spatial_ref                           int64 8B 0\n",
      "Data variables:\n",
      "    temperature_2m_above_ground           (time, y, x) float64 3kB 8.239 ... nan\n",
      "    specific_humidity_2m_above_ground     (time, y, x) float64 3kB 0.003063 ....\n",
      "    relative_humidity_2m_above_ground     (time, y, x) float64 3kB 43.6 ... nan\n",
      "    u_component_of_wind_10m_above_ground  (time, y, x) float64 3kB -2.18 ... nan\n",
      "    v_component_of_wind_10m_above_ground  (time, y, x) float64 3kB 1.563 ... nan\n",
      "    precipitable_water_entire_atmosphere  (time, y, x) float64 3kB 8.089 ... nan\n",
      "Attributes:\n",
      "    TIFFTAG_XRESOLUTION:     1\n",
      "    TIFFTAG_YRESOLUTION:     1\n",
      "    TIFFTAG_RESOLUTIONUNIT:  1 (unitless)\n",
      "    AREA_OR_POINT:           Area\n",
      "    _FillValue:              -32768.0\n",
      "    scale_factor:            1.0\n",
      "    add_offset:              0.0\n",
      "Saved gfs_2025_other_week_data/gfs_2025-01-15.nc\n",
      "Date: 2025-01-16, Images found: 96\n"
     ]
    },
    {
     "name": "stderr",
     "output_type": "stream",
     "text": [
      "Requesting data:   0%|          | 0/96 [02:46<?, ?it/s]\n",
      "Downloading data:   0%|          | 0/96 [01:52<?, ?it/s]\n",
      "/Users/dhruvyadav/anaconda3/envs/NWS/lib/python3.10/site-packages/wxee/utils.py:149: UserWarning: Different non-null values were encountered for the same variable at the same time coordinate. The first value was taken.\n",
      "  warnings.warn(\n"
     ]
    },
    {
     "name": "stdout",
     "output_type": "stream",
     "text": [
      "<xarray.Dataset> Size: 19kB\n",
      "Dimensions:                               (time: 4, x: 10, y: 10)\n",
      "Coordinates:\n",
      "  * time                                  (time) datetime64[ns] 32B 2025-01-1...\n",
      "  * x                                     (x) float64 80B -98.93 ... -96.91\n",
      "  * y                                     (y) float64 80B 31.1 30.88 ... 29.08\n",
      "    spatial_ref                           int64 8B 0\n",
      "Data variables:\n",
      "    temperature_2m_above_ground           (time, y, x) float64 3kB 10.18 ... nan\n",
      "    specific_humidity_2m_above_ground     (time, y, x) float64 3kB 0.00348 .....\n",
      "    relative_humidity_2m_above_ground     (time, y, x) float64 3kB 43.5 ... nan\n",
      "    u_component_of_wind_10m_above_ground  (time, y, x) float64 3kB -1.054 ......\n",
      "    v_component_of_wind_10m_above_ground  (time, y, x) float64 3kB -2.52 ... nan\n",
      "    precipitable_water_entire_atmosphere  (time, y, x) float64 3kB 8.168 ... nan\n",
      "Attributes:\n",
      "    TIFFTAG_XRESOLUTION:     1\n",
      "    TIFFTAG_YRESOLUTION:     1\n",
      "    TIFFTAG_RESOLUTIONUNIT:  1 (unitless)\n",
      "    AREA_OR_POINT:           Area\n",
      "    _FillValue:              -32768.0\n",
      "    scale_factor:            1.0\n",
      "    add_offset:              0.0\n",
      "Saved gfs_2025_other_week_data/gfs_2025-01-16.nc\n",
      "Date: 2025-01-17, Images found: 96\n"
     ]
    },
    {
     "name": "stderr",
     "output_type": "stream",
     "text": [
      "Requesting data:   0%|          | 0/96 [02:22<?, ?it/s]\n",
      "Downloading data:   0%|          | 0/96 [01:49<?, ?it/s]\n"
     ]
    },
    {
     "name": "stdout",
     "output_type": "stream",
     "text": [
      "<xarray.Dataset> Size: 19kB\n",
      "Dimensions:                               (time: 4, x: 10, y: 10)\n",
      "Coordinates:\n",
      "  * time                                  (time) datetime64[ns] 32B 2025-01-1...\n",
      "  * x                                     (x) float64 80B -98.93 ... -96.91\n",
      "  * y                                     (y) float64 80B 31.1 30.88 ... 29.08\n",
      "    spatial_ref                           int64 8B 0\n",
      "Data variables:\n",
      "    temperature_2m_above_ground           (time, y, x) float64 3kB 10.63 ... nan\n",
      "    specific_humidity_2m_above_ground     (time, y, x) float64 3kB 0.002888 ....\n",
      "    relative_humidity_2m_above_ground     (time, y, x) float64 3kB 34.8 ... nan\n",
      "    u_component_of_wind_10m_above_ground  (time, y, x) float64 3kB -0.6637 .....\n",
      "    v_component_of_wind_10m_above_ground  (time, y, x) float64 3kB 1.874 ... nan\n",
      "    precipitable_water_entire_atmosphere  (time, y, x) float64 3kB 11.29 ... nan\n",
      "Attributes:\n",
      "    TIFFTAG_XRESOLUTION:     1\n",
      "    TIFFTAG_YRESOLUTION:     1\n",
      "    TIFFTAG_RESOLUTIONUNIT:  1 (unitless)\n",
      "    AREA_OR_POINT:           Area\n",
      "    _FillValue:              -32768.0\n",
      "    scale_factor:            1.0\n",
      "    add_offset:              0.0\n",
      "Saved gfs_2025_other_week_data/gfs_2025-01-17.nc\n"
     ]
    },
    {
     "name": "stderr",
     "output_type": "stream",
     "text": [
      "/Users/dhruvyadav/anaconda3/envs/NWS/lib/python3.10/site-packages/wxee/utils.py:149: UserWarning: Different non-null values were encountered for the same variable at the same time coordinate. The first value was taken.\n",
      "  warnings.warn(\n"
     ]
    }
   ],
   "source": [
    "while current < end_date:\n",
    "    next_day = current + timedelta(days=1)\n",
    "    \n",
    "    current_str = current.strftime(\"%Y-%m-%d\")\n",
    "    next_day_str = next_day.strftime(\"%Y-%m-%d\")\n",
    "    \n",
    "    gfs_subset = (\n",
    "        ee.ImageCollection(\"NOAA/GFS0P25\")\n",
    "        .filterDate(current_str, next_day_str)\n",
    "        .filterBounds(region_polygon)\n",
    "        .select(surface_variables)\n",
    "        .filterMetadata(\"forecast_hours\", \"less_than\", 24) \n",
    "    )\n",
    "    \n",
    "    # Number of Images\n",
    "    count = gfs_subset.size().getInfo()\n",
    "    print(f\"Date: {current_str}, Images found: {count}\")\n",
    "    \n",
    "    # If count=0, skip or handle error\n",
    "    if count == 0:\n",
    "        print(\"No data for this day, skipping.\")\n",
    "        current = next_day\n",
    "        continue\n",
    "    \n",
    "    # Convert subset to xarray\n",
    "    try:\n",
    "        xr_day = gfs_subset.wx.to_xarray(\n",
    "            region=region_polygon,\n",
    "            scale=25000,   # ~25 km\n",
    "            progress=True,\n",
    "            num_cores=1,\n",
    "            masked=True\n",
    "        )\n",
    "    except Exception as e:\n",
    "        print(f\"Error downloading data for {current_str}: {e}\")\n",
    "        current = next_day\n",
    "        continue\n",
    "    \n",
    "    # Inspect dataset\n",
    "    print(xr_day)  \n",
    "    \n",
    "    # Save locally as NetCDF\n",
    "    out_file = os.path.join(out_dir, f\"gfs_{current_str}.nc\")\n",
    "    xr_day.to_netcdf(out_file)\n",
    "    print(f\"Saved {out_file}\")\n",
    "    \n",
    "    # Move to the next day\n",
    "    current = next_day"
   ]
  },
  {
   "cell_type": "code",
   "execution_count": 8,
   "metadata": {},
   "outputs": [],
   "source": [
    "from datetime import datetime, timedelta\n",
    "\n",
    "# Set your specific day (for instance, February 1, 2025)\n",
    "current_date = datetime(2025, 2, 1)\n",
    "next_date = current_date + timedelta(days=1)\n",
    "current_str = current_date.strftime(\"%Y-%m-%d\")\n",
    "next_day_str = next_date.strftime(\"%Y-%m-%d\")"
   ]
  },
  {
   "cell_type": "code",
   "execution_count": 9,
   "metadata": {},
   "outputs": [
    {
     "name": "stdout",
     "output_type": "stream",
     "text": [
      "Testing for: 2025-02-01\n",
      "Forecast 6 Images Count: 4\n"
     ]
    }
   ],
   "source": [
    "# Test for forecast hour 6 on that day\n",
    "gfs_forecast6 = (\n",
    "    ee.ImageCollection(\"NOAA/GFS0P25\")\n",
    "    .filterDate(current_str, next_day_str)\n",
    "    .filterBounds(region_polygon)\n",
    "    .filterMetadata(\"forecast_hours\", \"equals\", 6)\n",
    "    .select(surface_variables)\n",
    ")\n",
    "\n",
    "print(\"Testing for:\", current_str)\n",
    "print(\"Forecast 6 Images Count:\", gfs_forecast6.size().getInfo())"
   ]
  },
  {
   "cell_type": "code",
   "execution_count": null,
   "metadata": {},
   "outputs": [
    {
     "data": {
      "text/plain": [
       "<ee.imagecollection.ImageCollection at 0x11dc8a290>"
      ]
     },
     "execution_count": 10,
     "metadata": {},
     "output_type": "execute_result"
    }
   ],
   "source": [
    "gfs_forecast6."
   ]
  },
  {
   "cell_type": "code",
   "execution_count": null,
   "metadata": {},
   "outputs": [],
   "source": []
  }
 ],
 "metadata": {
  "kernelspec": {
   "display_name": "NWS",
   "language": "python",
   "name": "python3"
  },
  "language_info": {
   "codemirror_mode": {
    "name": "ipython",
    "version": 3
   },
   "file_extension": ".py",
   "mimetype": "text/x-python",
   "name": "python",
   "nbconvert_exporter": "python",
   "pygments_lexer": "ipython3",
   "version": "3.10.16"
  }
 },
 "nbformat": 4,
 "nbformat_minor": 2
}
