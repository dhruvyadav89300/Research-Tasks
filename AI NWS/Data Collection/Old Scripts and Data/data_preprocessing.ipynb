{
 "cells": [
  {
   "cell_type": "code",
   "execution_count": 1,
   "metadata": {},
   "outputs": [],
   "source": [
    "import pandas as pd\n",
    "import re"
   ]
  },
  {
   "cell_type": "code",
   "execution_count": 2,
   "metadata": {},
   "outputs": [],
   "source": [
    "df = pd.read_csv(\"Initial_data.csv\")"
   ]
  },
  {
   "cell_type": "code",
   "execution_count": 3,
   "metadata": {},
   "outputs": [
    {
     "data": {
      "text/html": [
       "<div>\n",
       "<style scoped>\n",
       "    .dataframe tbody tr th:only-of-type {\n",
       "        vertical-align: middle;\n",
       "    }\n",
       "\n",
       "    .dataframe tbody tr th {\n",
       "        vertical-align: top;\n",
       "    }\n",
       "\n",
       "    .dataframe thead th {\n",
       "        text-align: right;\n",
       "    }\n",
       "</style>\n",
       "<table border=\"1\" class=\"dataframe\">\n",
       "  <thead>\n",
       "    <tr style=\"text-align: right;\">\n",
       "      <th></th>\n",
       "      <th>Unnamed: 0</th>\n",
       "      <th>Text</th>\n",
       "    </tr>\n",
       "  </thead>\n",
       "  <tbody>\n",
       "    <tr>\n",
       "      <th>0</th>\n",
       "      <td>0</td>\n",
       "      <td>\\n793\\nFXUS64 KEWX 200759\\nAFDEWX\\n\\nArea Fore...</td>\n",
       "    </tr>\n",
       "    <tr>\n",
       "      <th>1</th>\n",
       "      <td>1</td>\n",
       "      <td>\\n793\\nFXUS64 KEWX 200759\\nAFDEWX\\n\\nArea Fore...</td>\n",
       "    </tr>\n",
       "    <tr>\n",
       "      <th>2</th>\n",
       "      <td>2</td>\n",
       "      <td>\\n793\\nFXUS64 KEWX 200759\\nAFDEWX\\n\\nArea Fore...</td>\n",
       "    </tr>\n",
       "    <tr>\n",
       "      <th>3</th>\n",
       "      <td>3</td>\n",
       "      <td>\\n793\\nFXUS64 KEWX 200759\\nAFDEWX\\n\\nArea Fore...</td>\n",
       "    </tr>\n",
       "    <tr>\n",
       "      <th>4</th>\n",
       "      <td>4</td>\n",
       "      <td>\\n793\\nFXUS64 KEWX 200759\\nAFDEWX\\n\\nArea Fore...</td>\n",
       "    </tr>\n",
       "  </tbody>\n",
       "</table>\n",
       "</div>"
      ],
      "text/plain": [
       "   Unnamed: 0                                               Text\n",
       "0           0  \\n793\\nFXUS64 KEWX 200759\\nAFDEWX\\n\\nArea Fore...\n",
       "1           1  \\n793\\nFXUS64 KEWX 200759\\nAFDEWX\\n\\nArea Fore...\n",
       "2           2  \\n793\\nFXUS64 KEWX 200759\\nAFDEWX\\n\\nArea Fore...\n",
       "3           3  \\n793\\nFXUS64 KEWX 200759\\nAFDEWX\\n\\nArea Fore...\n",
       "4           4  \\n793\\nFXUS64 KEWX 200759\\nAFDEWX\\n\\nArea Fore..."
      ]
     },
     "execution_count": 3,
     "metadata": {},
     "output_type": "execute_result"
    }
   ],
   "source": [
    "df.head()"
   ]
  },
  {
   "cell_type": "code",
   "execution_count": 4,
   "metadata": {},
   "outputs": [],
   "source": [
    "pattern = r\"(\\d{3,4}\\s(?:AM|PM)\\sCST\\s+\\w{3}\\s+\\w{3}\\s+\\d{1,2}\\s+\\d{4})\""
   ]
  },
  {
   "cell_type": "code",
   "execution_count": 5,
   "metadata": {},
   "outputs": [
    {
     "data": {
      "text/plain": [
       "array(['159 AM CST Thu Feb 20 2025', '155 AM CST Thu Feb 20 2025',\n",
       "       '155 AM CST Thu Feb 20 2025', '1104 PM CST Wed Feb 19 2025',\n",
       "       '159 AM CST Thu Feb 20 2025', '155 AM CST Thu Feb 20 2025',\n",
       "       '155 AM CST Thu Feb 20 2025', '1104 PM CST Wed Feb 19 2025',\n",
       "       '159 AM CST Thu Feb 20 2025', '155 AM CST Thu Feb 20 2025',\n",
       "       '155 AM CST Thu Feb 20 2025', '1104 PM CST Wed Feb 19 2025',\n",
       "       '159 AM CST Thu Feb 20 2025', '155 AM CST Thu Feb 20 2025',\n",
       "       '155 AM CST Thu Feb 20 2025', '1104 PM CST Wed Feb 19 2025',\n",
       "       '159 AM CST Thu Feb 20 2025', '155 AM CST Thu Feb 20 2025',\n",
       "       '155 AM CST Thu Feb 20 2025', '1104 PM CST Wed Feb 19 2025',\n",
       "       '159 AM CST Thu Feb 20 2025', '155 AM CST Thu Feb 20 2025',\n",
       "       '155 AM CST Thu Feb 20 2025', '1104 PM CST Wed Feb 19 2025',\n",
       "       '159 AM CST Thu Feb 20 2025', '155 AM CST Thu Feb 20 2025',\n",
       "       '155 AM CST Thu Feb 20 2025', '1104 PM CST Wed Feb 19 2025',\n",
       "       '159 AM CST Thu Feb 20 2025', '155 AM CST Thu Feb 20 2025',\n",
       "       '155 AM CST Thu Feb 20 2025', '1104 PM CST Wed Feb 19 2025',\n",
       "       '159 AM CST Thu Feb 20 2025', '155 AM CST Thu Feb 20 2025',\n",
       "       '155 AM CST Thu Feb 20 2025', '1104 PM CST Wed Feb 19 2025',\n",
       "       '159 AM CST Thu Feb 20 2025', '155 AM CST Thu Feb 20 2025',\n",
       "       '155 AM CST Thu Feb 20 2025', '1104 PM CST Wed Feb 19 2025',\n",
       "       '159 AM CST Thu Feb 20 2025', '155 AM CST Thu Feb 20 2025',\n",
       "       '155 AM CST Thu Feb 20 2025', '1104 PM CST Wed Feb 19 2025',\n",
       "       '159 AM CST Thu Feb 20 2025', '155 AM CST Thu Feb 20 2025',\n",
       "       '155 AM CST Thu Feb 20 2025', '1104 PM CST Wed Feb 19 2025',\n",
       "       '159 AM CST Thu Feb 20 2025', '155 AM CST Thu Feb 20 2025',\n",
       "       '155 AM CST Thu Feb 20 2025', '1104 PM CST Wed Feb 19 2025',\n",
       "       '159 AM CST Thu Feb 20 2025', '155 AM CST Thu Feb 20 2025',\n",
       "       '155 AM CST Thu Feb 20 2025', '1104 PM CST Wed Feb 19 2025',\n",
       "       '159 AM CST Thu Feb 20 2025', '155 AM CST Thu Feb 20 2025',\n",
       "       '155 AM CST Thu Feb 20 2025', '1104 PM CST Wed Feb 19 2025',\n",
       "       '159 AM CST Thu Feb 20 2025', '155 AM CST Thu Feb 20 2025',\n",
       "       '155 AM CST Thu Feb 20 2025', '1104 PM CST Wed Feb 19 2025',\n",
       "       '159 AM CST Thu Feb 20 2025', '155 AM CST Thu Feb 20 2025',\n",
       "       '155 AM CST Thu Feb 20 2025', '1104 PM CST Wed Feb 19 2025',\n",
       "       '159 AM CST Thu Feb 20 2025', '155 AM CST Thu Feb 20 2025',\n",
       "       '155 AM CST Thu Feb 20 2025', '1104 PM CST Wed Feb 19 2025',\n",
       "       '159 AM CST Thu Feb 20 2025', '155 AM CST Thu Feb 20 2025',\n",
       "       '155 AM CST Thu Feb 20 2025', '1104 PM CST Wed Feb 19 2025',\n",
       "       '159 AM CST Thu Feb 20 2025', '155 AM CST Thu Feb 20 2025',\n",
       "       '155 AM CST Thu Feb 20 2025', '1104 PM CST Wed Feb 19 2025',\n",
       "       '159 AM CST Thu Feb 20 2025', '155 AM CST Thu Feb 20 2025',\n",
       "       '155 AM CST Thu Feb 20 2025', '1104 PM CST Wed Feb 19 2025',\n",
       "       '159 AM CST Thu Feb 20 2025', '155 AM CST Thu Feb 20 2025',\n",
       "       '155 AM CST Thu Feb 20 2025', '1104 PM CST Wed Feb 19 2025',\n",
       "       '159 AM CST Thu Feb 20 2025', '155 AM CST Thu Feb 20 2025',\n",
       "       '155 AM CST Thu Feb 20 2025', '1104 PM CST Wed Feb 19 2025',\n",
       "       '159 AM CST Thu Feb 20 2025', '155 AM CST Thu Feb 20 2025',\n",
       "       '155 AM CST Thu Feb 20 2025', '1104 PM CST Wed Feb 19 2025',\n",
       "       '159 AM CST Thu Feb 20 2025', '155 AM CST Thu Feb 20 2025',\n",
       "       '155 AM CST Thu Feb 20 2025', '1104 PM CST Wed Feb 19 2025',\n",
       "       '159 AM CST Thu Feb 20 2025', '155 AM CST Thu Feb 20 2025',\n",
       "       '155 AM CST Thu Feb 20 2025', '1104 PM CST Wed Feb 19 2025',\n",
       "       '159 AM CST Thu Feb 20 2025', '155 AM CST Thu Feb 20 2025',\n",
       "       '155 AM CST Thu Feb 20 2025', '1104 PM CST Wed Feb 19 2025',\n",
       "       '159 AM CST Thu Feb 20 2025', '155 AM CST Thu Feb 20 2025',\n",
       "       '155 AM CST Thu Feb 20 2025', '1104 PM CST Wed Feb 19 2025',\n",
       "       '159 AM CST Thu Feb 20 2025', '155 AM CST Thu Feb 20 2025',\n",
       "       '155 AM CST Thu Feb 20 2025', '1104 PM CST Wed Feb 19 2025',\n",
       "       '159 AM CST Thu Feb 20 2025', '155 AM CST Thu Feb 20 2025',\n",
       "       '155 AM CST Thu Feb 20 2025', '1104 PM CST Wed Feb 19 2025',\n",
       "       '159 AM CST Thu Feb 20 2025', '155 AM CST Thu Feb 20 2025',\n",
       "       '155 AM CST Thu Feb 20 2025', '1104 PM CST Wed Feb 19 2025',\n",
       "       '159 AM CST Thu Feb 20 2025', '155 AM CST Thu Feb 20 2025',\n",
       "       '155 AM CST Thu Feb 20 2025', '1104 PM CST Wed Feb 19 2025',\n",
       "       '159 AM CST Thu Feb 20 2025', '155 AM CST Thu Feb 20 2025',\n",
       "       '155 AM CST Thu Feb 20 2025', '1104 PM CST Wed Feb 19 2025',\n",
       "       '159 AM CST Thu Feb 20 2025', '155 AM CST Thu Feb 20 2025',\n",
       "       '155 AM CST Thu Feb 20 2025', '1104 PM CST Wed Feb 19 2025',\n",
       "       '159 AM CST Thu Feb 20 2025', '155 AM CST Thu Feb 20 2025',\n",
       "       '155 AM CST Thu Feb 20 2025', '1104 PM CST Wed Feb 19 2025',\n",
       "       '159 AM CST Thu Feb 20 2025', '155 AM CST Thu Feb 20 2025',\n",
       "       '155 AM CST Thu Feb 20 2025', '1104 PM CST Wed Feb 19 2025',\n",
       "       '159 AM CST Thu Feb 20 2025', '155 AM CST Thu Feb 20 2025',\n",
       "       '155 AM CST Thu Feb 20 2025', '1104 PM CST Wed Feb 19 2025',\n",
       "       '159 AM CST Thu Feb 20 2025', '155 AM CST Thu Feb 20 2025',\n",
       "       '155 AM CST Thu Feb 20 2025', '1104 PM CST Wed Feb 19 2025',\n",
       "       '159 AM CST Thu Feb 20 2025', '155 AM CST Thu Feb 20 2025',\n",
       "       '155 AM CST Thu Feb 20 2025', '1104 PM CST Wed Feb 19 2025',\n",
       "       '159 AM CST Thu Feb 20 2025', '155 AM CST Thu Feb 20 2025',\n",
       "       '155 AM CST Thu Feb 20 2025', '1104 PM CST Wed Feb 19 2025',\n",
       "       '159 AM CST Thu Feb 20 2025', '155 AM CST Thu Feb 20 2025',\n",
       "       '155 AM CST Thu Feb 20 2025', '1104 PM CST Wed Feb 19 2025',\n",
       "       '159 AM CST Thu Feb 20 2025', '155 AM CST Thu Feb 20 2025',\n",
       "       '155 AM CST Thu Feb 20 2025', '1104 PM CST Wed Feb 19 2025',\n",
       "       '159 AM CST Thu Feb 20 2025', '155 AM CST Thu Feb 20 2025',\n",
       "       '155 AM CST Thu Feb 20 2025', '1104 PM CST Wed Feb 19 2025',\n",
       "       '159 AM CST Thu Feb 20 2025', '155 AM CST Thu Feb 20 2025',\n",
       "       '155 AM CST Thu Feb 20 2025', '1104 PM CST Wed Feb 19 2025'],\n",
       "      dtype=object)"
      ]
     },
     "execution_count": 5,
     "metadata": {},
     "output_type": "execute_result"
    }
   ],
   "source": [
    "df['Text'].str.extractall(pattern)[0].values"
   ]
  },
  {
   "cell_type": "code",
   "execution_count": 6,
   "metadata": {},
   "outputs": [],
   "source": [
    "extracted_array = df['Text'].str.extractall(pattern)[0].values"
   ]
  },
  {
   "cell_type": "code",
   "execution_count": 7,
   "metadata": {},
   "outputs": [
    {
     "data": {
      "text/plain": [
       "array(['159 AM CST Thu Feb 20 2025', '155 AM CST Thu Feb 20 2025',\n",
       "       '155 AM CST Thu Feb 20 2025', '1104 PM CST Wed Feb 19 2025',\n",
       "       '159 AM CST Thu Feb 20 2025', '155 AM CST Thu Feb 20 2025',\n",
       "       '155 AM CST Thu Feb 20 2025', '1104 PM CST Wed Feb 19 2025',\n",
       "       '159 AM CST Thu Feb 20 2025', '155 AM CST Thu Feb 20 2025',\n",
       "       '155 AM CST Thu Feb 20 2025', '1104 PM CST Wed Feb 19 2025',\n",
       "       '159 AM CST Thu Feb 20 2025', '155 AM CST Thu Feb 20 2025',\n",
       "       '155 AM CST Thu Feb 20 2025', '1104 PM CST Wed Feb 19 2025',\n",
       "       '159 AM CST Thu Feb 20 2025', '155 AM CST Thu Feb 20 2025',\n",
       "       '155 AM CST Thu Feb 20 2025', '1104 PM CST Wed Feb 19 2025',\n",
       "       '159 AM CST Thu Feb 20 2025', '155 AM CST Thu Feb 20 2025',\n",
       "       '155 AM CST Thu Feb 20 2025', '1104 PM CST Wed Feb 19 2025',\n",
       "       '159 AM CST Thu Feb 20 2025', '155 AM CST Thu Feb 20 2025',\n",
       "       '155 AM CST Thu Feb 20 2025', '1104 PM CST Wed Feb 19 2025',\n",
       "       '159 AM CST Thu Feb 20 2025', '155 AM CST Thu Feb 20 2025',\n",
       "       '155 AM CST Thu Feb 20 2025', '1104 PM CST Wed Feb 19 2025',\n",
       "       '159 AM CST Thu Feb 20 2025', '155 AM CST Thu Feb 20 2025',\n",
       "       '155 AM CST Thu Feb 20 2025', '1104 PM CST Wed Feb 19 2025',\n",
       "       '159 AM CST Thu Feb 20 2025', '155 AM CST Thu Feb 20 2025',\n",
       "       '155 AM CST Thu Feb 20 2025', '1104 PM CST Wed Feb 19 2025',\n",
       "       '159 AM CST Thu Feb 20 2025', '155 AM CST Thu Feb 20 2025',\n",
       "       '155 AM CST Thu Feb 20 2025', '1104 PM CST Wed Feb 19 2025',\n",
       "       '159 AM CST Thu Feb 20 2025', '155 AM CST Thu Feb 20 2025',\n",
       "       '155 AM CST Thu Feb 20 2025', '1104 PM CST Wed Feb 19 2025',\n",
       "       '159 AM CST Thu Feb 20 2025', '155 AM CST Thu Feb 20 2025',\n",
       "       '155 AM CST Thu Feb 20 2025', '1104 PM CST Wed Feb 19 2025',\n",
       "       '159 AM CST Thu Feb 20 2025', '155 AM CST Thu Feb 20 2025',\n",
       "       '155 AM CST Thu Feb 20 2025', '1104 PM CST Wed Feb 19 2025',\n",
       "       '159 AM CST Thu Feb 20 2025', '155 AM CST Thu Feb 20 2025',\n",
       "       '155 AM CST Thu Feb 20 2025', '1104 PM CST Wed Feb 19 2025',\n",
       "       '159 AM CST Thu Feb 20 2025', '155 AM CST Thu Feb 20 2025',\n",
       "       '155 AM CST Thu Feb 20 2025', '1104 PM CST Wed Feb 19 2025',\n",
       "       '159 AM CST Thu Feb 20 2025', '155 AM CST Thu Feb 20 2025',\n",
       "       '155 AM CST Thu Feb 20 2025', '1104 PM CST Wed Feb 19 2025',\n",
       "       '159 AM CST Thu Feb 20 2025', '155 AM CST Thu Feb 20 2025',\n",
       "       '155 AM CST Thu Feb 20 2025', '1104 PM CST Wed Feb 19 2025',\n",
       "       '159 AM CST Thu Feb 20 2025', '155 AM CST Thu Feb 20 2025',\n",
       "       '155 AM CST Thu Feb 20 2025', '1104 PM CST Wed Feb 19 2025',\n",
       "       '159 AM CST Thu Feb 20 2025', '155 AM CST Thu Feb 20 2025',\n",
       "       '155 AM CST Thu Feb 20 2025', '1104 PM CST Wed Feb 19 2025',\n",
       "       '159 AM CST Thu Feb 20 2025', '155 AM CST Thu Feb 20 2025',\n",
       "       '155 AM CST Thu Feb 20 2025', '1104 PM CST Wed Feb 19 2025',\n",
       "       '159 AM CST Thu Feb 20 2025', '155 AM CST Thu Feb 20 2025',\n",
       "       '155 AM CST Thu Feb 20 2025', '1104 PM CST Wed Feb 19 2025',\n",
       "       '159 AM CST Thu Feb 20 2025', '155 AM CST Thu Feb 20 2025',\n",
       "       '155 AM CST Thu Feb 20 2025', '1104 PM CST Wed Feb 19 2025',\n",
       "       '159 AM CST Thu Feb 20 2025', '155 AM CST Thu Feb 20 2025',\n",
       "       '155 AM CST Thu Feb 20 2025', '1104 PM CST Wed Feb 19 2025',\n",
       "       '159 AM CST Thu Feb 20 2025', '155 AM CST Thu Feb 20 2025',\n",
       "       '155 AM CST Thu Feb 20 2025', '1104 PM CST Wed Feb 19 2025',\n",
       "       '159 AM CST Thu Feb 20 2025', '155 AM CST Thu Feb 20 2025',\n",
       "       '155 AM CST Thu Feb 20 2025', '1104 PM CST Wed Feb 19 2025',\n",
       "       '159 AM CST Thu Feb 20 2025', '155 AM CST Thu Feb 20 2025',\n",
       "       '155 AM CST Thu Feb 20 2025', '1104 PM CST Wed Feb 19 2025',\n",
       "       '159 AM CST Thu Feb 20 2025', '155 AM CST Thu Feb 20 2025',\n",
       "       '155 AM CST Thu Feb 20 2025', '1104 PM CST Wed Feb 19 2025',\n",
       "       '159 AM CST Thu Feb 20 2025', '155 AM CST Thu Feb 20 2025',\n",
       "       '155 AM CST Thu Feb 20 2025', '1104 PM CST Wed Feb 19 2025',\n",
       "       '159 AM CST Thu Feb 20 2025', '155 AM CST Thu Feb 20 2025',\n",
       "       '155 AM CST Thu Feb 20 2025', '1104 PM CST Wed Feb 19 2025',\n",
       "       '159 AM CST Thu Feb 20 2025', '155 AM CST Thu Feb 20 2025',\n",
       "       '155 AM CST Thu Feb 20 2025', '1104 PM CST Wed Feb 19 2025',\n",
       "       '159 AM CST Thu Feb 20 2025', '155 AM CST Thu Feb 20 2025',\n",
       "       '155 AM CST Thu Feb 20 2025', '1104 PM CST Wed Feb 19 2025',\n",
       "       '159 AM CST Thu Feb 20 2025', '155 AM CST Thu Feb 20 2025',\n",
       "       '155 AM CST Thu Feb 20 2025', '1104 PM CST Wed Feb 19 2025',\n",
       "       '159 AM CST Thu Feb 20 2025', '155 AM CST Thu Feb 20 2025',\n",
       "       '155 AM CST Thu Feb 20 2025', '1104 PM CST Wed Feb 19 2025',\n",
       "       '159 AM CST Thu Feb 20 2025', '155 AM CST Thu Feb 20 2025',\n",
       "       '155 AM CST Thu Feb 20 2025', '1104 PM CST Wed Feb 19 2025',\n",
       "       '159 AM CST Thu Feb 20 2025', '155 AM CST Thu Feb 20 2025',\n",
       "       '155 AM CST Thu Feb 20 2025', '1104 PM CST Wed Feb 19 2025',\n",
       "       '159 AM CST Thu Feb 20 2025', '155 AM CST Thu Feb 20 2025',\n",
       "       '155 AM CST Thu Feb 20 2025', '1104 PM CST Wed Feb 19 2025',\n",
       "       '159 AM CST Thu Feb 20 2025', '155 AM CST Thu Feb 20 2025',\n",
       "       '155 AM CST Thu Feb 20 2025', '1104 PM CST Wed Feb 19 2025',\n",
       "       '159 AM CST Thu Feb 20 2025', '155 AM CST Thu Feb 20 2025',\n",
       "       '155 AM CST Thu Feb 20 2025', '1104 PM CST Wed Feb 19 2025',\n",
       "       '159 AM CST Thu Feb 20 2025', '155 AM CST Thu Feb 20 2025',\n",
       "       '155 AM CST Thu Feb 20 2025', '1104 PM CST Wed Feb 19 2025',\n",
       "       '159 AM CST Thu Feb 20 2025', '155 AM CST Thu Feb 20 2025',\n",
       "       '155 AM CST Thu Feb 20 2025', '1104 PM CST Wed Feb 19 2025',\n",
       "       '159 AM CST Thu Feb 20 2025', '155 AM CST Thu Feb 20 2025',\n",
       "       '155 AM CST Thu Feb 20 2025', '1104 PM CST Wed Feb 19 2025',\n",
       "       '159 AM CST Thu Feb 20 2025', '155 AM CST Thu Feb 20 2025',\n",
       "       '155 AM CST Thu Feb 20 2025', '1104 PM CST Wed Feb 19 2025',\n",
       "       '159 AM CST Thu Feb 20 2025', '155 AM CST Thu Feb 20 2025',\n",
       "       '155 AM CST Thu Feb 20 2025', '1104 PM CST Wed Feb 19 2025'],\n",
       "      dtype=object)"
      ]
     },
     "execution_count": 7,
     "metadata": {},
     "output_type": "execute_result"
    }
   ],
   "source": [
    "extracted_array"
   ]
  },
  {
   "cell_type": "code",
   "execution_count": 9,
   "metadata": {},
   "outputs": [],
   "source": [
    "df_dates = pd.DataFrame(extracted_array)"
   ]
  },
  {
   "cell_type": "code",
   "execution_count": 10,
   "metadata": {},
   "outputs": [
    {
     "data": {
      "text/html": [
       "<div>\n",
       "<style scoped>\n",
       "    .dataframe tbody tr th:only-of-type {\n",
       "        vertical-align: middle;\n",
       "    }\n",
       "\n",
       "    .dataframe tbody tr th {\n",
       "        vertical-align: top;\n",
       "    }\n",
       "\n",
       "    .dataframe thead th {\n",
       "        text-align: right;\n",
       "    }\n",
       "</style>\n",
       "<table border=\"1\" class=\"dataframe\">\n",
       "  <thead>\n",
       "    <tr style=\"text-align: right;\">\n",
       "      <th></th>\n",
       "      <th>0</th>\n",
       "    </tr>\n",
       "  </thead>\n",
       "  <tbody>\n",
       "    <tr>\n",
       "      <th>0</th>\n",
       "      <td>159 AM CST Thu Feb 20 2025</td>\n",
       "    </tr>\n",
       "    <tr>\n",
       "      <th>1</th>\n",
       "      <td>155 AM CST Thu Feb 20 2025</td>\n",
       "    </tr>\n",
       "    <tr>\n",
       "      <th>2</th>\n",
       "      <td>155 AM CST Thu Feb 20 2025</td>\n",
       "    </tr>\n",
       "    <tr>\n",
       "      <th>3</th>\n",
       "      <td>1104 PM CST Wed Feb 19 2025</td>\n",
       "    </tr>\n",
       "    <tr>\n",
       "      <th>4</th>\n",
       "      <td>159 AM CST Thu Feb 20 2025</td>\n",
       "    </tr>\n",
       "  </tbody>\n",
       "</table>\n",
       "</div>"
      ],
      "text/plain": [
       "                             0\n",
       "0   159 AM CST Thu Feb 20 2025\n",
       "1   155 AM CST Thu Feb 20 2025\n",
       "2   155 AM CST Thu Feb 20 2025\n",
       "3  1104 PM CST Wed Feb 19 2025\n",
       "4   159 AM CST Thu Feb 20 2025"
      ]
     },
     "execution_count": 10,
     "metadata": {},
     "output_type": "execute_result"
    }
   ],
   "source": [
    "df_dates.head()"
   ]
  },
  {
   "cell_type": "code",
   "execution_count": 20,
   "metadata": {},
   "outputs": [
    {
     "data": {
      "text/html": [
       "<div>\n",
       "<style scoped>\n",
       "    .dataframe tbody tr th:only-of-type {\n",
       "        vertical-align: middle;\n",
       "    }\n",
       "\n",
       "    .dataframe tbody tr th {\n",
       "        vertical-align: top;\n",
       "    }\n",
       "\n",
       "    .dataframe thead th {\n",
       "        text-align: right;\n",
       "    }\n",
       "</style>\n",
       "<table border=\"1\" class=\"dataframe\">\n",
       "  <thead>\n",
       "    <tr style=\"text-align: right;\">\n",
       "      <th></th>\n",
       "      <th>Unnamed: 0</th>\n",
       "      <th>Text</th>\n",
       "      <th>DateTime</th>\n",
       "    </tr>\n",
       "  </thead>\n",
       "  <tbody>\n",
       "    <tr>\n",
       "      <th>39</th>\n",
       "      <td>39</td>\n",
       "      <td>\\n793\\nFXUS64 KEWX 200759\\nAFDEWX\\n\\nArea Fore...</td>\n",
       "      <td>159 AM CST Thu Feb 20 2025</td>\n",
       "    </tr>\n",
       "    <tr>\n",
       "      <th>40</th>\n",
       "      <td>40</td>\n",
       "      <td>\\n793\\nFXUS64 KEWX 200759\\nAFDEWX\\n\\nArea Fore...</td>\n",
       "      <td>159 AM CST Thu Feb 20 2025</td>\n",
       "    </tr>\n",
       "    <tr>\n",
       "      <th>41</th>\n",
       "      <td>41</td>\n",
       "      <td>\\n793\\nFXUS64 KEWX 200759\\nAFDEWX\\n\\nArea Fore...</td>\n",
       "      <td>159 AM CST Thu Feb 20 2025</td>\n",
       "    </tr>\n",
       "    <tr>\n",
       "      <th>42</th>\n",
       "      <td>42</td>\n",
       "      <td>\\n793\\nFXUS64 KEWX 200759\\nAFDEWX\\n\\nArea Fore...</td>\n",
       "      <td>159 AM CST Thu Feb 20 2025</td>\n",
       "    </tr>\n",
       "    <tr>\n",
       "      <th>43</th>\n",
       "      <td>43</td>\n",
       "      <td>\\n793\\nFXUS64 KEWX 200759\\nAFDEWX\\n\\nArea Fore...</td>\n",
       "      <td>159 AM CST Thu Feb 20 2025</td>\n",
       "    </tr>\n",
       "  </tbody>\n",
       "</table>\n",
       "</div>"
      ],
      "text/plain": [
       "    Unnamed: 0                                               Text  \\\n",
       "39          39  \\n793\\nFXUS64 KEWX 200759\\nAFDEWX\\n\\nArea Fore...   \n",
       "40          40  \\n793\\nFXUS64 KEWX 200759\\nAFDEWX\\n\\nArea Fore...   \n",
       "41          41  \\n793\\nFXUS64 KEWX 200759\\nAFDEWX\\n\\nArea Fore...   \n",
       "42          42  \\n793\\nFXUS64 KEWX 200759\\nAFDEWX\\n\\nArea Fore...   \n",
       "43          43  \\n793\\nFXUS64 KEWX 200759\\nAFDEWX\\n\\nArea Fore...   \n",
       "\n",
       "                      DateTime  \n",
       "39  159 AM CST Thu Feb 20 2025  \n",
       "40  159 AM CST Thu Feb 20 2025  \n",
       "41  159 AM CST Thu Feb 20 2025  \n",
       "42  159 AM CST Thu Feb 20 2025  \n",
       "43  159 AM CST Thu Feb 20 2025  "
      ]
     },
     "execution_count": 20,
     "metadata": {},
     "output_type": "execute_result"
    }
   ],
   "source": [
    "df.tail()"
   ]
  },
  {
   "cell_type": "code",
   "execution_count": 21,
   "metadata": {},
   "outputs": [
    {
     "data": {
      "text/plain": [
       "array(['159 AM CST Thu Feb 20 2025'], dtype=object)"
      ]
     },
     "execution_count": 21,
     "metadata": {},
     "output_type": "execute_result"
    }
   ],
   "source": [
    "df[\"DateTime\"].unique()"
   ]
  },
  {
   "cell_type": "code",
   "execution_count": 5,
   "metadata": {},
   "outputs": [
    {
     "data": {
      "text/plain": [
       "'\\n793\\nFXUS64 KEWX 200759\\nAFDEWX\\n\\nArea Forecast Discussion\\nNational Weather Service Austin/San Antonio TX\\n159 AM CST Thu Feb 20 2025\\n\\n...New SHORT TERM, LONG TERM...\\n\\n.SHORT TERM...\\n(Today through Friday)\\nIssued at 155 AM CST Thu Feb 20 2025\\n\\nKey Messages:\\n\\n- Arctic cold continues in the short term with dangerous wind chills this\\n  morning and hard freezes both mornings.\\n\\n- Extreme Cold Warning is in effect for the northern Rio Grande, Edwards\\n  Plateau, Hill Country, I-35 corridor, and Coastal Plains. Cold\\n  Weather Advisory is in effect for the southern Rio Grande and\\n  Winter Garden. These remain in effect through Noon CST today.\\n\\n- Potential for very light freezing drizzle Friday afternoon.\\n\\nArctic high pressure remains in control. The strongest surface\\npressure gradient is this morning with northerly winds of 10 to 15\\nmph and gusts up to 25 mph. These winds combined with temperatures\\nin the teens and 20s create wind chills of Zero to 5 Edwards Plateau\\nand Hill Country, 5 to 10 I-35 corridor to the Coastal Plains, and\\n10 to 20 Winter Garden. The Extreme Cold Warning for the northern\\nRio Grande, Edwards Plateau, Hill Country, I-35 corridor, and\\nCoastal Plains and the Cold Weather Advisory for the southern Rio\\nGrande and Winter Garden continue through Noon CST today. A warmer\\nday is expected as cloudiness will not be as extensive with\\ntemperatures and wind chills rising out of criteria levels. As an\\nupper level trough approaches from the west, a surface trough forms\\noff the Texas coast tonight into Friday. Warm, moist advection\\ndevelops tonight leading to strengthening isentropic forcing on\\nFriday. Extensive cloudiness returns tonight into Friday with patchy\\nprecipitation developing by the afternoon. Low temperatures tonight\\nwill be warmer due to the cloudiness, though still mostly below\\nfreezing. High temperatures on Friday will be colder again due to\\nthe cloudiness and wet bulb effects as the precipitation develops.\\nThe precipitation becomes focused mainly along the I-35 corridor as\\nthe lower levels saturate there sooner. Forecast soundings indicate\\nit would be drizzle or freezing drizzle. Any amounts would be very\\nlight and should not cause any impacts.\\n\\n&&\\n\\n.LONG TERM...\\n(Friday night through Wednesday)\\nIssued at 155 AM CST Thu Feb 20 2025\\n\\nKey Messages:\\n\\n- Low chance for freezing rain for the Hill Country and I-35 Friday night\\n  into Saturday morning.\\n\\n- Showers over the Coastal Plains Saturday through Sunday morning.\\n\\n- Warm trend Sunday through the middle of next week.\\n\\nBy Friday night, a slow-moving surface trough is forecast to lie\\njust off the South Texas coast. Aloft, an amplifying upper-level\\ndisturbance over the southwestern US is expected to support the\\ndevelopment of a 30 kt southerly low level jet at 850mb, funneling\\nmoisture from the coastal disturbance into our area. This will\\nenhance the ascent of air atop initially dense and somewhat dry cold\\nair near the surface. A low stratiform cloud deck will cover much of\\nthe region and model soundings show this cloud deck thickening\\nthrough the night as the air beneath the cloud gradually moistens\\nwith more precipitation eventually reaching the ground. Currently,\\nguidance suggests the western flanks of the main axis of moisture\\ntransport Friday night into Saturday morning may extend into the I-\\n35 corridor and the Hill Country where overnight temperatures are\\ncurrently forecast to bottom out around 28 to 33 degrees. Thus, the\\nrate of this low-level moistening will be pivotal in determining\\nprecipitation type and coverage. Mean SREF ensemble soundings show\\nan above-freezing warm nose over most of the cloud deck aloft, but\\nwithin about 2000 ft of the ground, evaporative cooling could\\nintroduce conditions more conducive to freezing rain. The latest\\nLREF ensemble indicated that the most likely overlap of subfreezing\\nwet bulb temperatures and precipitation was over the Hill Country\\nnear the I-35 corridor early Saturday morning. Some of the higher\\nresolution mesoscale models, which tend to outperform coarser models\\nin these setups, are starting to get in range of this potential\\nevent and are also hinting at this freezing rain potential Friday\\nnight and Saturday morning. Acknowledging this guidance and given\\ntheir better handling of previous events, I have increased the area\\nof possible freezing rain over parts of the Hill Country and I-35\\ncorridor north of Bexar County, though overall PoPs are still only\\naround 30 percent. We will continue to monitor mesoscale trends as\\nthis potential event moves into the short-range.\\n\\nPrecipitation rates Saturday morning, either freezing or liquid,\\nshould be generally light given the shallow depth of cloud (below\\nabout 750mb) and modest ascent. Temperatures should get into the 40s\\nSaturday afternoon, so precipitation types should eventually be all\\nliquid. Ongoing shower activity primarily over the Coastal Plains\\nmay strengthen and grow in coverage some Saturday afternoon onwards\\nas a shortwave trough approaches. This shortwave has trended slower\\nin the latest guidance, so rain showers look to persist over the\\nCoastal Plains into Sunday morning. Current guidance suggests\\nrainfall totals generally on the order of a few tenths of an inch\\nover the weekend, but there may be locally heavier totals especially\\nalong and east of Highway 77 if some more elevated instability\\nmaterializes. Shower activity will generally shift eastwards with\\ntime in tandem with the shortwave.\\n\\nLows Sunday morning are currently forecast to be in the upper 30s\\nthroughout South Central Texas. By Sunday afternoon, the\\naforementioned shortwave trough should be east of our area. This\\nwill have the effect of both moving the coastal disturbance eastward\\nand introducing a dry, mid-level northwesterly flow. This will cause\\nclouds to clear west to east and set up a string of sunny and\\nwarming afternoons. Lingering clouds Sunday may still result in a\\nwest-to-east contrast in highs with upper-50s along Highway 77 to\\nthe lower 70s along the Rio Grande. The warming trend looks to\\ncontinue to midweek with highs in the 70s and 80s and lows in the\\n40s and 50s through Wednesday. A distant shortwave trough could\\nbring a dry cold front Wednesday or Thursday next week.\\n\\n&&\\n\\n.AVIATION...\\n(06Z TAFS)\\nIssued at 1104 PM CST Wed Feb 19 2025\\n\\nEvening winds have settled for the most part but a few random gusts\\nto 20 knots will probably occur through midday Thursday. A round of\\nMVFR CIGs continue to work south over I-35. The return to VFR at AUS\\nshould occur near or shortly after the valid period begins, and then\\nSAT/SSF should see improvements by around 08Z. Skies should remain\\nVFR for the rest of the period.\\n\\n&&\\n\\n.PRELIMINARY POINT TEMPS/POPS...\\nAustin Camp Mabry              38  26  36  32 /   0   0  10  10\\nAustin Bergstrom Intl Airport  38  25  36  31 /   0   0  10  10\\nNew Braunfels Muni Airport     40  28  38  32 /   0   0  10  20\\nBurnet Muni Airport            36  22  36  30 /   0   0   0  10\\nDel Rio Intl Airport           47  30  47  36 /   0   0   0   0\\nGeorgetown Muni Airport        36  23  35  31 /   0   0   0  10\\nHondo Muni Airport             44  29  38  32 /   0   0  10  10\\nSan Marcos Muni Airport        39  26  36  30 /   0   0  10  20\\nLa Grange - Fayette Regional   40  26  37  32 /   0   0   0  10\\nSan Antonio Intl Airport       41  29  37  32 /   0   0  10  20\\nStinson Muni Airport           43  30  38  33 /   0   0  10  20\\n\\n&&\\n\\n.EWX WATCHES/WARNINGS/ADVISORIES...\\nExtreme Cold Warning until noon CST today for Atascosa-Bandera-\\nBastrop-Bexar-Blanco-Burnet-Caldwell-Comal-De Witt-Edwards-Fayette-\\nGillespie-Gonzales-Guadalupe-Hays-Karnes-Kendall-Kerr-Kinney-Lavaca-\\nLee-Llano-Medina-Real-Travis-Uvalde-Val Verde-Williamson-Wilson.\\n\\n&&\\n\\n$$\\n\\nShort-Term...04\\nLong-Term...Tran\\nAviation...04\\n\\n\\n'"
      ]
     },
     "execution_count": 5,
     "metadata": {},
     "output_type": "execute_result"
    }
   ],
   "source": [
    "df[\"Text\"][0]"
   ]
  },
  {
   "cell_type": "code",
   "execution_count": null,
   "metadata": {},
   "outputs": [],
   "source": []
  }
 ],
 "metadata": {
  "kernelspec": {
   "display_name": "NWS",
   "language": "python",
   "name": "python3"
  },
  "language_info": {
   "codemirror_mode": {
    "name": "ipython",
    "version": 3
   },
   "file_extension": ".py",
   "mimetype": "text/x-python",
   "name": "python",
   "nbconvert_exporter": "python",
   "pygments_lexer": "ipython3",
   "version": "3.10.16"
  }
 },
 "nbformat": 4,
 "nbformat_minor": 2
}
