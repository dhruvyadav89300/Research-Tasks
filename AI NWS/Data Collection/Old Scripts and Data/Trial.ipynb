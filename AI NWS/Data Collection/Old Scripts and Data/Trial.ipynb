{
 "cells": [
  {
   "cell_type": "code",
   "execution_count": 22,
   "metadata": {},
   "outputs": [],
   "source": [
    "import ee\n",
    "import wxee\n",
    "import pandas as pd\n",
    "import xarray as xr\n",
    "from datetime import datetime, timedelta\n",
    "import os"
   ]
  },
  {
   "cell_type": "code",
   "execution_count": 23,
   "metadata": {},
   "outputs": [],
   "source": [
    "ee.Initialize()"
   ]
  },
  {
   "cell_type": "code",
   "execution_count": 24,
   "metadata": {},
   "outputs": [],
   "source": [
    "region_polygon = ee.Geometry.Rectangle([-99, 29, -97, 31])"
   ]
  },
  {
   "cell_type": "code",
   "execution_count": 25,
   "metadata": {},
   "outputs": [],
   "source": [
    "surface_variables = [\n",
    "    \"temperature_2m_above_ground\",\n",
    "    \"specific_humidity_2m_above_ground\",\n",
    "    \"relative_humidity_2m_above_ground\",\n",
    "    \"u_component_of_wind_10m_above_ground\",\n",
    "    \"v_component_of_wind_10m_above_ground\",\n",
    "    \"precipitable_water_entire_atmosphere\"\n",
    "]"
   ]
  },
  {
   "cell_type": "code",
   "execution_count": 26,
   "metadata": {},
   "outputs": [],
   "source": [
    "start_date = datetime(2024, 2, 1)\n",
    "end_date   = datetime(2024, 2, 8)"
   ]
  },
  {
   "cell_type": "code",
   "execution_count": 27,
   "metadata": {},
   "outputs": [],
   "source": [
    "all_datasets = []\n",
    "current = start_date"
   ]
  },
  {
   "cell_type": "code",
   "execution_count": 28,
   "metadata": {},
   "outputs": [],
   "source": [
    "out_dir = \"gfs_1_week_data\"\n",
    "os.makedirs(out_dir, exist_ok=True)"
   ]
  },
  {
   "cell_type": "code",
   "execution_count": null,
   "metadata": {},
   "outputs": [
    {
     "name": "stdout",
     "output_type": "stream",
     "text": [
      "Date: 2024-02-01, Images found: 96\n"
     ]
    },
    {
     "name": "stderr",
     "output_type": "stream",
     "text": [
      "Requesting data:   0%|          | 0/96 [03:11<?, ?it/s]\n",
      "Downloading data:   0%|          | 0/96 [01:45<?, ?it/s]\n",
      "/Users/dhruvyadav/anaconda3/envs/NWS/lib/python3.10/site-packages/wxee/utils.py:149: UserWarning: Different non-null values were encountered for the same variable at the same time coordinate. The first value was taken.\n",
      "  warnings.warn(\n"
     ]
    },
    {
     "name": "stdout",
     "output_type": "stream",
     "text": [
      "<xarray.Dataset> Size: 19kB\n",
      "Dimensions:                               (time: 4, x: 10, y: 10)\n",
      "Coordinates:\n",
      "  * time                                  (time) datetime64[ns] 32B 2024-02-0...\n",
      "  * x                                     (x) float64 80B -98.93 ... -96.91\n",
      "  * y                                     (y) float64 80B 31.1 30.88 ... 29.08\n",
      "    spatial_ref                           int64 8B 0\n",
      "Data variables:\n",
      "    temperature_2m_above_ground           (time, y, x) float64 3kB 16.63 ... nan\n",
      "    specific_humidity_2m_above_ground     (time, y, x) float64 3kB 0.005454 ....\n",
      "    relative_humidity_2m_above_ground     (time, y, x) float64 3kB 44.3 ... nan\n",
      "    u_component_of_wind_10m_above_ground  (time, y, x) float64 3kB -2.418 ......\n",
      "    v_component_of_wind_10m_above_ground  (time, y, x) float64 3kB 3.056 ... nan\n",
      "    precipitable_water_entire_atmosphere  (time, y, x) float64 3kB 12.33 ... nan\n",
      "Attributes:\n",
      "    TIFFTAG_XRESOLUTION:     1\n",
      "    TIFFTAG_YRESOLUTION:     1\n",
      "    TIFFTAG_RESOLUTIONUNIT:  1 (unitless)\n",
      "    AREA_OR_POINT:           Area\n",
      "    _FillValue:              -32768.0\n",
      "    scale_factor:            1.0\n",
      "    add_offset:              0.0\n",
      "Saved gfs_1_week_data/gfs_2024-02-01.nc\n",
      "Date: 2024-02-02, Images found: 96\n"
     ]
    },
    {
     "name": "stderr",
     "output_type": "stream",
     "text": [
      "Requesting data:   0%|          | 0/96 [02:40<?, ?it/s]\n",
      "Downloading data:   0%|          | 0/96 [01:50<?, ?it/s]\n",
      "/Users/dhruvyadav/anaconda3/envs/NWS/lib/python3.10/site-packages/wxee/utils.py:149: UserWarning: Different non-null values were encountered for the same variable at the same time coordinate. The first value was taken.\n",
      "  warnings.warn(\n"
     ]
    },
    {
     "name": "stdout",
     "output_type": "stream",
     "text": [
      "<xarray.Dataset> Size: 19kB\n",
      "Dimensions:                               (time: 4, x: 10, y: 10)\n",
      "Coordinates:\n",
      "  * time                                  (time) datetime64[ns] 32B 2024-02-0...\n",
      "  * x                                     (x) float64 80B -98.93 ... -96.91\n",
      "  * y                                     (y) float64 80B 31.1 30.88 ... 29.08\n",
      "    spatial_ref                           int64 8B 0\n",
      "Data variables:\n",
      "    temperature_2m_above_ground           (time, y, x) float64 3kB 18.66 ... nan\n",
      "    specific_humidity_2m_above_ground     (time, y, x) float64 3kB 0.009321 ....\n",
      "    relative_humidity_2m_above_ground     (time, y, x) float64 3kB 66.0 ... nan\n",
      "    u_component_of_wind_10m_above_ground  (time, y, x) float64 3kB 0.1141 ......\n",
      "    v_component_of_wind_10m_above_ground  (time, y, x) float64 3kB 6.791 ... nan\n",
      "    precipitable_water_entire_atmosphere  (time, y, x) float64 3kB 22.16 ... nan\n",
      "Attributes:\n",
      "    TIFFTAG_XRESOLUTION:     1\n",
      "    TIFFTAG_YRESOLUTION:     1\n",
      "    TIFFTAG_RESOLUTIONUNIT:  1 (unitless)\n",
      "    AREA_OR_POINT:           Area\n",
      "    _FillValue:              -32768.0\n",
      "    scale_factor:            1.0\n",
      "    add_offset:              0.0\n",
      "Saved gfs_1_week_data/gfs_2024-02-02.nc\n",
      "Date: 2024-02-03, Images found: 96\n"
     ]
    },
    {
     "name": "stderr",
     "output_type": "stream",
     "text": [
      "Requesting data:   0%|          | 0/96 [02:03<?, ?it/s]\n"
     ]
    },
    {
     "name": "stdout",
     "output_type": "stream",
     "text": [
      "Error downloading data for 2024-02-03: Not signed up for Earth Engine or project is not registered. Visit https://developers.google.com/earth-engine/guides/access\n",
      "Date: 2024-02-04, Images found: 96\n"
     ]
    },
    {
     "name": "stderr",
     "output_type": "stream",
     "text": [
      "Requesting data:   0%|          | 0/96 [00:04<?, ?it/s]\n"
     ]
    },
    {
     "name": "stdout",
     "output_type": "stream",
     "text": [
      "Error downloading data for 2024-02-04: Not signed up for Earth Engine or project is not registered. Visit https://developers.google.com/earth-engine/guides/access\n",
      "Date: 2024-02-05, Images found: 96\n"
     ]
    },
    {
     "name": "stderr",
     "output_type": "stream",
     "text": [
      "Requesting data:   0%|          | 0/96 [02:49<?, ?it/s]\n",
      "Downloading data:   0%|          | 0/96 [01:46<?, ?it/s]\n",
      "/Users/dhruvyadav/anaconda3/envs/NWS/lib/python3.10/site-packages/wxee/utils.py:149: UserWarning: Different non-null values were encountered for the same variable at the same time coordinate. The first value was taken.\n",
      "  warnings.warn(\n"
     ]
    },
    {
     "name": "stdout",
     "output_type": "stream",
     "text": [
      "<xarray.Dataset> Size: 19kB\n",
      "Dimensions:                               (time: 4, x: 10, y: 10)\n",
      "Coordinates:\n",
      "  * time                                  (time) datetime64[ns] 32B 2024-02-0...\n",
      "  * x                                     (x) float64 80B -98.93 ... -96.91\n",
      "  * y                                     (y) float64 80B 31.1 30.88 ... 29.08\n",
      "    spatial_ref                           int64 8B 0\n",
      "Data variables:\n",
      "    temperature_2m_above_ground           (time, y, x) float64 3kB 15.28 ... nan\n",
      "    specific_humidity_2m_above_ground     (time, y, x) float64 3kB 0.004252 ....\n",
      "    relative_humidity_2m_above_ground     (time, y, x) float64 3kB 37.2 ... nan\n",
      "    u_component_of_wind_10m_above_ground  (time, y, x) float64 3kB 4.485 ... nan\n",
      "    v_component_of_wind_10m_above_ground  (time, y, x) float64 3kB -7.001 ......\n",
      "    precipitable_water_entire_atmosphere  (time, y, x) float64 3kB 10.31 ... nan\n",
      "Attributes:\n",
      "    TIFFTAG_XRESOLUTION:     1\n",
      "    TIFFTAG_YRESOLUTION:     1\n",
      "    TIFFTAG_RESOLUTIONUNIT:  1 (unitless)\n",
      "    AREA_OR_POINT:           Area\n",
      "    _FillValue:              -32768.0\n",
      "    scale_factor:            1.0\n",
      "    add_offset:              0.0\n",
      "Saved gfs_1_week_data/gfs_2024-02-05.nc\n",
      "Date: 2024-02-06, Images found: 96\n"
     ]
    },
    {
     "name": "stderr",
     "output_type": "stream",
     "text": [
      "Requesting data:   0%|          | 0/96 [02:20<?, ?it/s]\n",
      "Downloading data:   0%|          | 0/96 [01:42<?, ?it/s]\n",
      "/Users/dhruvyadav/anaconda3/envs/NWS/lib/python3.10/site-packages/wxee/utils.py:149: UserWarning: Different non-null values were encountered for the same variable at the same time coordinate. The first value was taken.\n",
      "  warnings.warn(\n"
     ]
    },
    {
     "name": "stdout",
     "output_type": "stream",
     "text": [
      "<xarray.Dataset> Size: 19kB\n",
      "Dimensions:                               (time: 4, x: 10, y: 10)\n",
      "Coordinates:\n",
      "  * time                                  (time) datetime64[ns] 32B 2024-02-0...\n",
      "  * x                                     (x) float64 80B -98.93 ... -96.91\n",
      "  * y                                     (y) float64 80B 31.1 30.88 ... 29.08\n",
      "    spatial_ref                           int64 8B 0\n",
      "Data variables:\n",
      "    temperature_2m_above_ground           (time, y, x) float64 3kB 13.41 ... nan\n",
      "    specific_humidity_2m_above_ground     (time, y, x) float64 3kB 0.005923 ....\n",
      "    relative_humidity_2m_above_ground     (time, y, x) float64 3kB 59.2 ... nan\n",
      "    u_component_of_wind_10m_above_ground  (time, y, x) float64 3kB -0.0144 .....\n",
      "    v_component_of_wind_10m_above_ground  (time, y, x) float64 3kB -3.743 ......\n",
      "    precipitable_water_entire_atmosphere  (time, y, x) float64 3kB 12.78 ... nan\n",
      "Attributes:\n",
      "    TIFFTAG_XRESOLUTION:     1\n",
      "    TIFFTAG_YRESOLUTION:     1\n",
      "    TIFFTAG_RESOLUTIONUNIT:  1 (unitless)\n",
      "    AREA_OR_POINT:           Area\n",
      "    _FillValue:              -32768.0\n",
      "    scale_factor:            1.0\n",
      "    add_offset:              0.0\n",
      "Saved gfs_1_week_data/gfs_2024-02-06.nc\n",
      "Date: 2024-02-07, Images found: 96\n"
     ]
    },
    {
     "name": "stderr",
     "output_type": "stream",
     "text": [
      "Requesting data:   0%|          | 0/96 [02:29<?, ?it/s]\n",
      "Downloading data:   0%|          | 0/96 [01:44<?, ?it/s]\n"
     ]
    },
    {
     "name": "stdout",
     "output_type": "stream",
     "text": [
      "<xarray.Dataset> Size: 19kB\n",
      "Dimensions:                               (time: 4, x: 10, y: 10)\n",
      "Coordinates:\n",
      "  * time                                  (time) datetime64[ns] 32B 2024-02-0...\n",
      "  * x                                     (x) float64 80B -98.93 ... -96.91\n",
      "  * y                                     (y) float64 80B 31.1 30.88 ... 29.08\n",
      "    spatial_ref                           int64 8B 0\n",
      "Data variables:\n",
      "    temperature_2m_above_ground           (time, y, x) float64 3kB 15.74 ... nan\n",
      "    specific_humidity_2m_above_ground     (time, y, x) float64 3kB 0.004907 ....\n",
      "    relative_humidity_2m_above_ground     (time, y, x) float64 3kB 42.0 ... nan\n",
      "    u_component_of_wind_10m_above_ground  (time, y, x) float64 3kB -4.282 ......\n",
      "    v_component_of_wind_10m_above_ground  (time, y, x) float64 3kB 1.867 ... nan\n",
      "    precipitable_water_entire_atmosphere  (time, y, x) float64 3kB 9.559 ... nan\n",
      "Attributes:\n",
      "    TIFFTAG_XRESOLUTION:     1\n",
      "    TIFFTAG_YRESOLUTION:     1\n",
      "    TIFFTAG_RESOLUTIONUNIT:  1 (unitless)\n",
      "    AREA_OR_POINT:           Area\n",
      "    _FillValue:              -32768.0\n",
      "    scale_factor:            1.0\n",
      "    add_offset:              0.0\n",
      "Saved gfs_1_week_data/gfs_2024-02-07.nc\n"
     ]
    },
    {
     "name": "stderr",
     "output_type": "stream",
     "text": [
      "/Users/dhruvyadav/anaconda3/envs/NWS/lib/python3.10/site-packages/wxee/utils.py:149: UserWarning: Different non-null values were encountered for the same variable at the same time coordinate. The first value was taken.\n",
      "  warnings.warn(\n"
     ]
    }
   ],
   "source": [
    "while current < end_date:\n",
    "    next_day = current + timedelta(days=1)\n",
    "    \n",
    "    current_str = current.strftime(\"%Y-%m-%d\")\n",
    "    next_day_str = next_day.strftime(\"%Y-%m-%d\")\n",
    "    \n",
    "    gfs_subset = (\n",
    "        ee.ImageCollection(\"NOAA/GFS0P25\")\n",
    "        .filterDate(current_str, next_day_str)\n",
    "        .filterBounds(region_polygon)\n",
    "        .select(surface_variables)\n",
    "        .filterMetadata(\"forecast_hours\", \"less_than\", 24) \n",
    "    )\n",
    "    \n",
    "    # Number of Images\n",
    "    count = gfs_subset.size().getInfo()\n",
    "    print(f\"Date: {current_str}, Images found: {count}\")\n",
    "    \n",
    "    # If count=0, skip or handle error\n",
    "    if count == 0:\n",
    "        print(\"No data for this day, skipping.\")\n",
    "        current = next_day\n",
    "        continue\n",
    "    \n",
    "    # 6) Convert subset to xarray\n",
    "    try:\n",
    "        xr_day = gfs_subset.wx.to_xarray(\n",
    "            region=region_polygon,\n",
    "            scale=25000,   # ~25 km\n",
    "            progress=True,\n",
    "            num_cores=1,\n",
    "            masked=True\n",
    "        )\n",
    "    except Exception as e:\n",
    "        print(f\"Error downloading data for {current_str}: {e}\")\n",
    "        current = next_day\n",
    "        continue\n",
    "    \n",
    "    # 7) Inspect dataset\n",
    "    print(xr_day)  # dims, coords, variables\n",
    "    # e.g., print(xr_day[\"temperature_2m_above_ground\"])\n",
    "    \n",
    "    # 8) Save locally as NetCDF\n",
    "    out_file = os.path.join(out_dir, f\"gfs_{current_str}.nc\")\n",
    "    xr_day.to_netcdf(out_file)\n",
    "    print(f\"Saved {out_file}\")\n",
    "    \n",
    "    # Move to the next day\n",
    "    current = next_day"
   ]
  },
  {
   "cell_type": "code",
   "execution_count": null,
   "metadata": {},
   "outputs": [],
   "source": []
  }
 ],
 "metadata": {
  "kernelspec": {
   "display_name": "NWS",
   "language": "python",
   "name": "python3"
  },
  "language_info": {
   "codemirror_mode": {
    "name": "ipython",
    "version": 3
   },
   "file_extension": ".py",
   "mimetype": "text/x-python",
   "name": "python",
   "nbconvert_exporter": "python",
   "pygments_lexer": "ipython3",
   "version": "3.10.16"
  }
 },
 "nbformat": 4,
 "nbformat_minor": 2
}
