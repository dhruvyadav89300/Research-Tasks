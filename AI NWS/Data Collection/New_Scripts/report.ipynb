{
 "cells": [
  {
   "cell_type": "markdown",
   "metadata": {},
   "source": [
    "## Work done till now\n",
    " \n",
    "1. Collected Area forecast discussions for almost a month (This has a few caveats, a single day has multiple discussions at different times, I am yet to analyze those)\n",
    "\n",
    "2. Collected GFS data for 3 weeks (1 week of 2024(Which I didn't have the area forecast discussions) and two weeks of 2025)\n",
    "\n",
    "3. Identified the cause of missing values in the data, I tried in the Earth Engine Code Editor, it seems to be working fine and there is data present in the engine. The missing   values are caused during conversion.\n",
    "\n"
   ]
  },
  {
   "cell_type": "markdown",
   "metadata": {},
   "source": [
    "## To Do\n",
    "\n",
    "1. Fix the code to collect the data properly.\n",
    "\n",
    "2. Fix the creation of missing values.\n",
    "\n",
    "3. Make plots of the collected data."
   ]
  },
  {
   "cell_type": "markdown",
   "metadata": {},
   "source": [
    "## Done\n",
    "\n",
    "1. Done\n",
    "2. Done\n",
    "3. Pending"
   ]
  },
  {
   "cell_type": "markdown",
   "metadata": {},
   "source": [
    "## Questions\n",
    "\n",
    "1. Where to find the archive of the Area Forecast Discussions?\n",
    "\n",
    "2. How to handle multiple Area Forecasts Discussions for the same day? \n",
    "    -- Take the first version only\n",
    "\n",
    "3. I have collected data for San Antonio and Austin, do we need more regions or should we focus onto them only but for longer time range?"
   ]
  },
  {
   "cell_type": "markdown",
   "metadata": {},
   "source": [
    "## Workflow"
   ]
  },
  {
   "cell_type": "markdown",
   "metadata": {},
   "source": [
    "Collecting GFS data —> Collecting text data —> Constructing images from them —> pairing them (text and the images) on the basis of date and time —> Fine-Tuning the model on this data "
   ]
  },
  {
   "cell_type": "markdown",
   "metadata": {},
   "source": [
    "## To-DO (New)\n",
    "\n",
    "1. Do the pairing of the data.\n",
    "2. Start experimenting with this much data only.\n",
    "3. Read the 4M paper by Apple.\n",
    "4. Make clolour plots (Clolor maps plots for the GFS data)\n",
    "5. Plot the variables seperately.\n",
    "6. Try to implement small VLMs"
   ]
  },
  {
   "cell_type": "markdown",
   "metadata": {},
   "source": [
    "I am writing a program to download images from google earth engine for my deep learning project. I want images from 1 Jan 2025 to 28 Feb 2025. Below are the further details.\n",
    "\n",
    "region_polygon = ee.Geometry.Rectangle([-99, 29, -97, 31])\n",
    "\n",
    "I need to plot these variables only. I want to plot a separate image for each variable.\n",
    "\n",
    "surface_variables = [\n",
    "    \"temperature_2m_above_ground\",\n",
    "    \"specific_humidity_2m_above_ground\",\n",
    "    \"relative_humidity_2m_above_ground\",\n",
    "    \"u_component_of_wind_10m_above_ground\",\n",
    "    \"v_component_of_wind_10m_above_ground\",\n",
    "    \"precipitable_water_entire_atmosphere\"\n",
    "]\n",
    "\n",
    "forecast_hours = [0, 6, 12, 18]\n",
    "\n",
    "These are the forecast hours I want the image for.\n",
    "\n",
    "For example take 1 Jan 2025.\n",
    "\n",
    "There should be 4(Different Forecast hours)*6(surface_variables)=24 images generated. I want images likes this for whole two months. I want them stored in the following directory structure.\n",
    "\n",
    "Jan-->(1 Jan, 2 Jan, 3 Jan.......31 Jan)\n",
    "\n",
    "Feb-->(1 Feb, 2 Feb.......28 Feb)\n",
    "\n",
    "Each date directory should contain all the images for that particular day with proper naming of forecast hour and variable name.\n",
    "\n",
    "All these images should be clipped to the region polygon meaning they should only contain the data inside the region polygon.\n",
    "\n",
    "Also, the image size must be 128x128. These images should be overlayed on a base map for the area in the region polygon for the same data range.\n",
    "\n",
    "Understand my requirements first, if you have any questions please ask. Do not give me any code right away. You'll ask for clarification (if any) and then I will provide you a sample script to make the final code. You can take help from both. Please build up on the code above."
   ]
  }
 ],
 "metadata": {
  "kernelspec": {
   "display_name": "NWS",
   "language": "python",
   "name": "python3"
  },
  "language_info": {
   "name": "python",
   "version": "3.10.16"
  }
 },
 "nbformat": 4,
 "nbformat_minor": 2
}
