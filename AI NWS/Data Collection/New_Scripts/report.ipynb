{
 "cells": [
  {
   "cell_type": "markdown",
   "metadata": {},
   "source": [
    "## Work done till now\n",
    " \n",
    "1. Collected Area forecast discussions for almost a month (This has a few caveats, a single day has multiple discussions at different times, I am yet to analyze those)\n",
    "\n",
    "2. Collected GFS data for 3 weeks (1 week of 2024(Which I didn't have the area forecast discussions) and two weeks of 2025)\n",
    "\n",
    "3. Identified the cause of missing values in the data, I tried in the Earth Engine Code Editor, it seems to be working fine and there is data present in the engine. The missing   values are caused during conversion.\n",
    "\n"
   ]
  },
  {
   "cell_type": "markdown",
   "metadata": {},
   "source": [
    "## To Do\n",
    "\n",
    "1. Fix the code to collect the data properly.\n",
    "\n",
    "2. Fix the creation of missing values.\n",
    "\n",
    "3. Make plots of the collected data."
   ]
  },
  {
   "cell_type": "markdown",
   "metadata": {},
   "source": [
    "## Done\n",
    "\n",
    "1. Done\n",
    "2. Done\n",
    "3. Pending"
   ]
  },
  {
   "cell_type": "markdown",
   "metadata": {},
   "source": [
    "## Questions\n",
    "\n",
    "1. Where to find the archive of the Area Forecast Discussions?\n",
    "\n",
    "2. How to handle multiple Area Forecasts Discussions for the same day?\n",
    "\n",
    "3. I have collected data for San Antonio and Austin, do we need more regions or should we focus onto them only but for longer time range?"
   ]
  },
  {
   "cell_type": "markdown",
   "metadata": {},
   "source": []
  }
 ],
 "metadata": {
  "kernelspec": {
   "display_name": "NWS",
   "language": "python",
   "name": "python3"
  },
  "language_info": {
   "name": "python",
   "version": "3.10.16"
  }
 },
 "nbformat": 4,
 "nbformat_minor": 2
}
