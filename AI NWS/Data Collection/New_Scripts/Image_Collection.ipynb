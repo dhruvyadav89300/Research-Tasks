{
  "cells": [
    {
      "cell_type": "markdown",
      "metadata": {},
      "source": [
        "## Libraries"
      ]
    },
    {
      "cell_type": "code",
      "execution_count": 1,
      "metadata": {
        "id": "31VSW9OU651T"
      },
      "outputs": [],
      "source": [
        "import os\n",
        "import io\n",
        "import datetime\n",
        "import time\n",
        "import requests\n",
        "import ee\n",
        "import numpy as np\n",
        "import matplotlib.pyplot as plt\n",
        "from matplotlib.colors import ListedColormap, BoundaryNorm\n",
        "from PIL import Image\n",
        "import logging\n",
        "from dotenv import load_dotenv"
      ]
    },
    {
      "cell_type": "markdown",
      "metadata": {},
      "source": [
        "## Setup"
      ]
    },
    {
      "cell_type": "code",
      "execution_count": 2,
      "metadata": {},
      "outputs": [],
      "source": [
        "load_dotenv()\n",
        "\n",
        "api_key = os.environ[\"GEOAPIFY_API_KEY\"]"
      ]
    },
    {
      "cell_type": "code",
      "execution_count": 3,
      "metadata": {
        "id": "Cykskg0t7EJM"
      },
      "outputs": [],
      "source": [
        "PROJECT = 'ee-dhruv100yadavofficial'\n",
        "# ee.Authenticate()\n",
        "ee.Initialize(project=PROJECT)"
      ]
    },
    {
      "cell_type": "markdown",
      "metadata": {},
      "source": [
        "## Basic Parameters"
      ]
    },
    {
      "cell_type": "code",
      "execution_count": 4,
      "metadata": {
        "id": "AM1imUao7otr"
      },
      "outputs": [],
      "source": [
        "region_polygon = ee.Geometry.Rectangle([-99, 29, -97, 31])\n",
        "surface_variables = [\n",
        "    \"temperature_2m_above_ground\",\n",
        "    \"specific_humidity_2m_above_ground\",\n",
        "    \"relative_humidity_2m_above_ground\",\n",
        "    \"u_component_of_wind_10m_above_ground\",\n",
        "    \"v_component_of_wind_10m_above_ground\",\n",
        "    \"precipitable_water_entire_atmosphere\"\n",
        "]\n",
        "forecast_hours = [0, 6, 12, 18]\n",
        "start_date = datetime.date(2025, 1, 1)\n",
        "end_date   = datetime.date(2025, 2, 28)\n",
        "\n",
        "\n",
        "base_output_dir = \"/Users/dhruvyadav/Desktop/Research/Manmeet Sir Research/AI NWS/Data Collection/Img_Data\"\n",
        "if not os.path.exists(base_output_dir):\n",
        "    os.makedirs(base_output_dir)"
      ]
    },
    {
      "cell_type": "markdown",
      "metadata": {},
      "source": [
        "### Logging"
      ]
    },
    {
      "cell_type": "code",
      "execution_count": 5,
      "metadata": {},
      "outputs": [],
      "source": [
        "logging.basicConfig(\n",
        "    level=logging.INFO,\n",
        "    format='%(message)s',\n",
        "    handlers=[\n",
        "        logging.StreamHandler(),\n",
        "        logging.FileHandler(os.path.join(base_output_dir, \"collection.log\"), mode='w')\n",
        "    ]\n",
        ")"
      ]
    },
    {
      "cell_type": "markdown",
      "metadata": {},
      "source": [
        "## Helper Functions"
      ]
    },
    {
      "cell_type": "code",
      "execution_count": 6,
      "metadata": {
        "id": "8tiDi6e96wmZ"
      },
      "outputs": [],
      "source": [
        "def get_geoapify_basemap():\n",
        "    \"\"\"\n",
        "    The center is specified as \"lonlat:-98,30\" (longitude, latitude).\n",
        "    \"\"\"\n",
        "\n",
        "    global api_key\n",
        "\n",
        "    url = f\"https://maps.geoapify.com/v1/staticmap?style=osm-carto&width=512&height=512&center=lonlat:-98,30&zoom=6&showLogo=false&apiKey={api_key}\"\n",
        "    response = requests.get(url)\n",
        "    if response.status_code == 200:\n",
        "        return response.content\n",
        "    else:\n",
        "        raise Exception(\"Error retrieving Geoapify basemap: \" + response.text)\n",
        "\n",
        "def get_forecast_image(forecast_dt, variable):\n",
        "    \"\"\"\n",
        "    Retrieves the forecast image for a given datetime and variable from NOAA/GFS0P25.\n",
        "    \"\"\"\n",
        "    collection = ee.ImageCollection(\"NOAA/GFS0P25\") \\\n",
        "                  .filterDate(forecast_dt, forecast_dt.advance(1, 'hour'))\n",
        "    forecast_img = ee.Image(collection.first())\n",
        "    return forecast_img.select(variable)\n",
        "\n",
        "def get_dynamic_vis_params(forecast_img, variable):\n",
        "    \"\"\"\n",
        "    Calculates dynamic min and max values for the forecast image over the region.\n",
        "    If the computation fails, fallback to preset values.\n",
        "    \"\"\"\n",
        "    reducer = ee.Reducer.minMax()\n",
        "    stats = forecast_img.reduceRegion(reducer, region_polygon, scale=1000, maxPixels=1e9)\n",
        "    min_val = stats.get(variable + \"_min\")\n",
        "    max_val = stats.get(variable + \"_max\")\n",
        "    try:\n",
        "        min_val = float(min_val.getInfo())\n",
        "        max_val = float(max_val.getInfo())\n",
        "    except Exception as e:\n",
        "        min_val = 0\n",
        "        max_val = 1\n",
        "    default_settings = {\n",
        "        \"temperature_2m_above_ground\": {\"palette\": ['blue', 'cyan', 'green', 'yellow', 'red'], \"opacity\": 0.6},\n",
        "        \"specific_humidity_2m_above_ground\": {\"palette\": ['white', 'blue'], \"opacity\": 0.6},\n",
        "        \"relative_humidity_2m_above_ground\": {\"palette\": ['white', 'green'], \"opacity\": 0.6},\n",
        "        \"u_component_of_wind_10m_above_ground\": {\"palette\": ['white', 'purple'], \"opacity\": 0.6},\n",
        "        \"v_component_of_wind_10m_above_ground\": {\"palette\": ['white', 'orange'], \"opacity\": 0.6},\n",
        "        \"precipitable_water_entire_atmosphere\": {\"palette\": ['white', 'blue'], \"opacity\": 0.6}\n",
        "    }\n",
        "    settings = default_settings.get(variable, {\"palette\": ['white'], \"opacity\": 1})\n",
        "    return {\"min\": min_val, \"max\": max_val, \"palette\": settings[\"palette\"], \"opacity\": settings[\"opacity\"]}\n",
        "\n",
        "def get_display_image(ee_img):\n",
        "    \"\"\"\n",
        "    Retrieves a PNG thumbnail image for an Earth Engine image.\n",
        "    \"\"\"\n",
        "    bounds = [-99, 29, -97, 31]\n",
        "    thumb_params = {'region': bounds, 'dimensions': '512x512', 'format': 'png'}\n",
        "    url = ee_img.getThumbURL(thumb_params)\n",
        "    response = requests.get(url)\n",
        "    if response.status_code == 200:\n",
        "        return response.content\n",
        "    else:\n",
        "        raise Exception(\"Error retrieving thumbnail: \" + response.text)\n",
        "\n",
        "def composite_images(basemap_bytes, overlay_bytes):\n",
        "    \"\"\"\n",
        "    Composites the overlay (with transparency) on top of the basemap.\n",
        "    Both images are assumed to be 512x512.\n",
        "    \"\"\"\n",
        "    base_img = Image.open(io.BytesIO(basemap_bytes)).convert(\"RGBA\")\n",
        "    overlay_img = Image.open(io.BytesIO(overlay_bytes)).convert(\"RGBA\")\n",
        "    composite = Image.alpha_composite(base_img, overlay_img)\n",
        "    return composite\n",
        "\n",
        "def crop_watermark(image, watermark_height=50):\n",
        "    \"\"\"\n",
        "    Crops out the bottom 'watermark_height' pixels from the image.\n",
        "    \"\"\"\n",
        "    width, height = image.size\n",
        "    return image.crop((0, 0, width, height - watermark_height))\n",
        "\n",
        "def resize_image(image, size=(512,512)):\n",
        "    \"\"\"\n",
        "    Resizes the image to the specified size.\n",
        "    \"\"\"\n",
        "    return image.resize(size, Image.Resampling.LANCZOS)\n",
        "\n",
        "def plot_variable_subplots(variable, date, forecast_hours):\n",
        "    \"\"\"\n",
        "    Creates a 2x2 subplot figure for one variable across the forecast hours for a given date.\n",
        "    For each forecast hour, it:\n",
        "      - Retrieves the forecast image and computes dynamic visualization parameters.\n",
        "      - Visualizes the forecast overlay and retrieves it as a PNG.\n",
        "      - Composites the overlay on the basemap (fetched once via Geoapify),\n",
        "      - Crops out the watermark and resizes to 512x512.\n",
        "    Then it arranges these four images in a 2x2 subplot, adds titles for each forecast hour,\n",
        "    an overall title (the variable name), and a discrete colorbar using the same palette.\n",
        "    Finally, the entire subplot figure is resized to 512x512 and returned as a PIL image.\n",
        "    \"\"\"\n",
        "    basemap_bytes = get_geoapify_basemap()\n",
        "    composite_images_list = []\n",
        "    vis_params_list = []\n",
        "    min_values = []\n",
        "    max_values = []\n",
        "    \n",
        "    for hour in forecast_hours:\n",
        "        forecast_dt = ee.Date(date.isoformat()).advance(hour, 'hour')\n",
        "        forecast_img = get_forecast_image(forecast_dt, variable)\n",
        "        vis_params = get_dynamic_vis_params(forecast_img, variable)\n",
        "        vis_params_list.append(vis_params)\n",
        "        min_values.append(vis_params['min'])\n",
        "        max_values.append(vis_params['max'])\n",
        "        \n",
        "        forecast_overlay = forecast_img.visualize(**vis_params)\n",
        "        overlay_bytes = get_display_image(forecast_overlay)\n",
        "        comp_img = composite_images(basemap_bytes, overlay_bytes)\n",
        "        comp_img = crop_watermark(comp_img, watermark_height=50)\n",
        "        comp_img = resize_image(comp_img, size=(512,512))\n",
        "        composite_images_list.append(comp_img)\n",
        "    \n",
        "    global_min = min(min_values)\n",
        "    global_max = max(max_values)\n",
        "    \n",
        "    fig, axes = plt.subplots(2, 2, figsize=(8,8))\n",
        "    axes = axes.flatten()\n",
        "    \n",
        "    for i, comp_img in enumerate(composite_images_list):\n",
        "        ax = axes[i]\n",
        "        ax.imshow(np.array(comp_img))\n",
        "        ax.set_title(f\"Forecast Hour: {forecast_hours[i]:02d}\", fontsize=10)\n",
        "        ax.axis(\"off\")\n",
        "    \n",
        "    fig.suptitle(variable, fontsize=16)\n",
        "    \n",
        "    palette = vis_params_list[0]['palette']\n",
        "    cmap = ListedColormap(palette)\n",
        "    boundaries = np.linspace(global_min, global_max, len(palette)+1)\n",
        "    norm = BoundaryNorm(boundaries, ncolors=len(palette))\n",
        "    \n",
        "    from matplotlib.cm import ScalarMappable\n",
        "    sm = ScalarMappable(cmap=cmap, norm=norm)\n",
        "    sm.set_array([])\n",
        "    fig.colorbar(sm, ax=axes.tolist(), fraction=0.03, pad=0.04).set_label(f\"{variable} value\", fontsize=12)\n",
        "    \n",
        "    temp_filename = \"temp_subplot.png\"\n",
        "    plt.savefig(temp_filename, dpi=300, bbox_inches='tight')\n",
        "    plt.close(fig)\n",
        "    \n",
        "    final_img = Image.open(temp_filename).convert(\"RGBA\")\n",
        "    final_img = resize_image(final_img, size=(512,512))\n",
        "    os.remove(temp_filename)\n",
        "    return final_img\n"
      ]
    },
    {
      "cell_type": "markdown",
      "metadata": {},
      "source": [
        "## Main Loop"
      ]
    },
    {
      "cell_type": "code",
      "execution_count": null,
      "metadata": {
        "colab": {
          "base_uri": "https://localhost:8080/"
        },
        "id": "FYf3nyAI7-zv",
        "outputId": "3796206d-4cd9-4e72-cdce-acb045ae99cc"
      },
      "outputs": [
        {
          "name": "stderr",
          "output_type": "stream",
          "text": [
            "Created directory: /Users/dhruvyadav/Desktop/Research/Manmeet Sir Research/AI NWS/Data Collection/Img_Data/Jan\n",
            "Created directory: /Users/dhruvyadav/Desktop/Research/Manmeet Sir Research/AI NWS/Data Collection/Img_Data/Jan/2025-01-01\n",
            "Saved subplot for 2025-01-01 variable temperature_2m_above_ground at /Users/dhruvyadav/Desktop/Research/Manmeet Sir Research/AI NWS/Data Collection/Img_Data/Jan/2025-01-01/temperature_2m_above_ground_subplots.png\n",
            "Saved subplot for 2025-01-01 variable specific_humidity_2m_above_ground at /Users/dhruvyadav/Desktop/Research/Manmeet Sir Research/AI NWS/Data Collection/Img_Data/Jan/2025-01-01/specific_humidity_2m_above_ground_subplots.png\n",
            "Saved subplot for 2025-01-01 variable relative_humidity_2m_above_ground at /Users/dhruvyadav/Desktop/Research/Manmeet Sir Research/AI NWS/Data Collection/Img_Data/Jan/2025-01-01/relative_humidity_2m_above_ground_subplots.png\n",
            "Saved subplot for 2025-01-01 variable u_component_of_wind_10m_above_ground at /Users/dhruvyadav/Desktop/Research/Manmeet Sir Research/AI NWS/Data Collection/Img_Data/Jan/2025-01-01/u_component_of_wind_10m_above_ground_subplots.png\n",
            "Saved subplot for 2025-01-01 variable v_component_of_wind_10m_above_ground at /Users/dhruvyadav/Desktop/Research/Manmeet Sir Research/AI NWS/Data Collection/Img_Data/Jan/2025-01-01/v_component_of_wind_10m_above_ground_subplots.png\n",
            "Saved subplot for 2025-01-01 variable precipitable_water_entire_atmosphere at /Users/dhruvyadav/Desktop/Research/Manmeet Sir Research/AI NWS/Data Collection/Img_Data/Jan/2025-01-01/precipitable_water_entire_atmosphere_subplots.png\n",
            "Created directory: /Users/dhruvyadav/Desktop/Research/Manmeet Sir Research/AI NWS/Data Collection/Img_Data/Jan/2025-01-02\n",
            "Saved subplot for 2025-01-02 variable temperature_2m_above_ground at /Users/dhruvyadav/Desktop/Research/Manmeet Sir Research/AI NWS/Data Collection/Img_Data/Jan/2025-01-02/temperature_2m_above_ground_subplots.png\n",
            "Saved subplot for 2025-01-02 variable specific_humidity_2m_above_ground at /Users/dhruvyadav/Desktop/Research/Manmeet Sir Research/AI NWS/Data Collection/Img_Data/Jan/2025-01-02/specific_humidity_2m_above_ground_subplots.png\n",
            "Saved subplot for 2025-01-02 variable relative_humidity_2m_above_ground at /Users/dhruvyadav/Desktop/Research/Manmeet Sir Research/AI NWS/Data Collection/Img_Data/Jan/2025-01-02/relative_humidity_2m_above_ground_subplots.png\n",
            "Saved subplot for 2025-01-02 variable u_component_of_wind_10m_above_ground at /Users/dhruvyadav/Desktop/Research/Manmeet Sir Research/AI NWS/Data Collection/Img_Data/Jan/2025-01-02/u_component_of_wind_10m_above_ground_subplots.png\n",
            "Saved subplot for 2025-01-02 variable v_component_of_wind_10m_above_ground at /Users/dhruvyadav/Desktop/Research/Manmeet Sir Research/AI NWS/Data Collection/Img_Data/Jan/2025-01-02/v_component_of_wind_10m_above_ground_subplots.png\n",
            "Saved subplot for 2025-01-02 variable precipitable_water_entire_atmosphere at /Users/dhruvyadav/Desktop/Research/Manmeet Sir Research/AI NWS/Data Collection/Img_Data/Jan/2025-01-02/precipitable_water_entire_atmosphere_subplots.png\n",
            "Created directory: /Users/dhruvyadav/Desktop/Research/Manmeet Sir Research/AI NWS/Data Collection/Img_Data/Jan/2025-01-03\n",
            "Saved subplot for 2025-01-03 variable temperature_2m_above_ground at /Users/dhruvyadav/Desktop/Research/Manmeet Sir Research/AI NWS/Data Collection/Img_Data/Jan/2025-01-03/temperature_2m_above_ground_subplots.png\n",
            "Saved subplot for 2025-01-03 variable specific_humidity_2m_above_ground at /Users/dhruvyadav/Desktop/Research/Manmeet Sir Research/AI NWS/Data Collection/Img_Data/Jan/2025-01-03/specific_humidity_2m_above_ground_subplots.png\n",
            "Saved subplot for 2025-01-03 variable relative_humidity_2m_above_ground at /Users/dhruvyadav/Desktop/Research/Manmeet Sir Research/AI NWS/Data Collection/Img_Data/Jan/2025-01-03/relative_humidity_2m_above_ground_subplots.png\n",
            "Saved subplot for 2025-01-03 variable u_component_of_wind_10m_above_ground at /Users/dhruvyadav/Desktop/Research/Manmeet Sir Research/AI NWS/Data Collection/Img_Data/Jan/2025-01-03/u_component_of_wind_10m_above_ground_subplots.png\n",
            "Saved subplot for 2025-01-03 variable v_component_of_wind_10m_above_ground at /Users/dhruvyadav/Desktop/Research/Manmeet Sir Research/AI NWS/Data Collection/Img_Data/Jan/2025-01-03/v_component_of_wind_10m_above_ground_subplots.png\n",
            "Saved subplot for 2025-01-03 variable precipitable_water_entire_atmosphere at /Users/dhruvyadav/Desktop/Research/Manmeet Sir Research/AI NWS/Data Collection/Img_Data/Jan/2025-01-03/precipitable_water_entire_atmosphere_subplots.png\n",
            "Created directory: /Users/dhruvyadav/Desktop/Research/Manmeet Sir Research/AI NWS/Data Collection/Img_Data/Jan/2025-01-04\n",
            "Saved subplot for 2025-01-04 variable temperature_2m_above_ground at /Users/dhruvyadav/Desktop/Research/Manmeet Sir Research/AI NWS/Data Collection/Img_Data/Jan/2025-01-04/temperature_2m_above_ground_subplots.png\n"
          ]
        }
      ],
      "source": [
        "current_date = start_date\n",
        "while current_date <= end_date:\n",
        "\n",
        "    # Directory Handling \n",
        "    \n",
        "    month_dir = current_date.strftime(\"%b\")\n",
        "    month_path = os.path.join(base_output_dir, month_dir)\n",
        "    if not os.path.exists(month_path):\n",
        "        os.makedirs(month_path)\n",
        "        logging.info(f\"Created directory: {month_path}\")\n",
        "        \n",
        "    date_dir = current_date.strftime(\"%Y-%m-%d\")\n",
        "    date_path = os.path.join(month_path, date_dir)\n",
        "    if not os.path.exists(date_path):\n",
        "        os.makedirs(date_path)\n",
        "        logging.info(f\"Created directory: {date_path}\")\n",
        "    \n",
        "    for variable in surface_variables:\n",
        "        try:\n",
        "            final_subplot_img = plot_variable_subplots(variable, current_date, forecast_hours)\n",
        "            out_filename = f\"{variable}_subplots.png\"\n",
        "            save_path = os.path.join(date_path, out_filename)\n",
        "            final_subplot_img.save(save_path)\n",
        "            logging.info(f\"Saved subplot for {current_date} variable {variable} at {save_path}\")\n",
        "        except Exception as e:\n",
        "            logging.error(f\"Error processing {current_date} variable {variable}: {e}\")\n",
        "    \n",
        "    current_date += datetime.timedelta(days=1)\n",
        "\n",
        "logging.info(\"Processing complete.\")"
      ]
    },
    {
      "cell_type": "markdown",
      "metadata": {},
      "source": [
        "_________"
      ]
    },
    {
      "cell_type": "markdown",
      "metadata": {
        "id": "OJlTs0SAGYnP"
      },
      "source": [
        "## Re-Running for 6 Feb 2025 (v_component_of_wind_10m_above_ground)"
      ]
    },
    {
      "cell_type": "code",
      "execution_count": 9,
      "metadata": {
        "id": "QX1M--on8C4k"
      },
      "outputs": [],
      "source": [
        "surface_variables = [\n",
        "    \"v_component_of_wind_10m_above_ground\"\n",
        "]\n",
        "\n",
        "start_date = datetime.date(2025, 2, 6)\n",
        "end_date   = datetime.date(2025, 2, 6)\n"
      ]
    },
    {
      "cell_type": "code",
      "execution_count": 10,
      "metadata": {
        "colab": {
          "base_uri": "https://localhost:8080/"
        },
        "id": "UDgvnmxQGjEj",
        "outputId": "d8d7b879-489f-4a70-9c4a-898d4ede786c"
      },
      "outputs": [
        {
          "name": "stdout",
          "output_type": "stream",
          "text": [
            "Saved subplot for 2025-02-06 variable v_component_of_wind_10m_above_ground at /content/drive/MyDrive/GEE_Subplots/Feb/2025-02-06/v_component_of_wind_10m_above_ground_subplots.png\n"
          ]
        }
      ],
      "source": [
        "# ---------------------------\n",
        "# Main Loop: Process All Dates & Variables and Save to Google Drive\n",
        "# ---------------------------\n",
        "current_date = start_date\n",
        "while current_date <= end_date:\n",
        "    # Create a directory for the month in Google Drive.\n",
        "    month_dir = current_date.strftime(\"%b\")\n",
        "    month_path = os.path.join(base_output_dir, month_dir)\n",
        "    if not os.path.exists(month_path):\n",
        "        os.makedirs(month_path)\n",
        "\n",
        "    # Create a directory for the current date inside the month directory.\n",
        "    date_dir = current_date.strftime(\"%Y-%m-%d\")\n",
        "    date_path = os.path.join(month_path, date_dir)\n",
        "    if not os.path.exists(date_path):\n",
        "        os.makedirs(date_path)\n",
        "\n",
        "    for variable in surface_variables:\n",
        "        try:\n",
        "            # Create the subplot image for the given variable and date.\n",
        "            final_subplot_img = plot_variable_subplots(variable, current_date, forecast_hours)\n",
        "            # Define the output filename.\n",
        "            out_filename = f\"{variable}_subplots.png\"\n",
        "            save_path = os.path.join(date_path, out_filename)\n",
        "            final_subplot_img.save(save_path)\n",
        "            print(f\"Saved subplot for {current_date} variable {variable} at {save_path}\")\n",
        "        except Exception as e:\n",
        "            print(f\"Error processing {current_date} variable {variable}: {e}\")\n",
        "\n",
        "    current_date += datetime.timedelta(days=1)\n"
      ]
    },
    {
      "cell_type": "code",
      "execution_count": null,
      "metadata": {
        "id": "qNamGvqkHn2M"
      },
      "outputs": [],
      "source": []
    }
  ],
  "metadata": {
    "colab": {
      "provenance": []
    },
    "kernelspec": {
      "display_name": "NWS",
      "language": "python",
      "name": "python3"
    },
    "language_info": {
      "codemirror_mode": {
        "name": "ipython",
        "version": 3
      },
      "file_extension": ".py",
      "mimetype": "text/x-python",
      "name": "python",
      "nbconvert_exporter": "python",
      "pygments_lexer": "ipython3",
      "version": "3.10.16"
    }
  },
  "nbformat": 4,
  "nbformat_minor": 0
}
